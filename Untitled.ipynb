{
 "cells": [
  {
   "cell_type": "code",
   "execution_count": 1,
   "id": "5fd55f61",
   "metadata": {},
   "outputs": [],
   "source": [
    "import turtle\n",
    "t = turtle.Turtle()\n",
    "t.shape(\"turtle\")"
   ]
  },
  {
   "cell_type": "code",
   "execution_count": 2,
   "id": "a40ece4a",
   "metadata": {},
   "outputs": [],
   "source": [
    "t.forward(100)"
   ]
  },
  {
   "cell_type": "code",
   "execution_count": 3,
   "id": "9ead8303",
   "metadata": {},
   "outputs": [],
   "source": [
    "t.left(90)\n",
    "t.forward(50)"
   ]
  },
  {
   "cell_type": "code",
   "execution_count": 2,
   "id": "9c2a425d",
   "metadata": {},
   "outputs": [
    {
     "name": "stdout",
     "output_type": "stream",
     "text": [
      "안녕하세요? 여러분\n",
      "저는 파이썬을 무척 좋아합니다.\n",
      "9*8은 72 입니다.\n",
      "안녕히 계세요\n"
     ]
    }
   ],
   "source": [
    "print(\"안녕하세요? 여러분\")\n",
    "print(\"저는 파이썬을 무척 좋아합니다.\")\n",
    "print(\"9*8은\" , 9*8, \"입니다.\")\n",
    "print(\"안녕히 계세요\")"
   ]
  },
  {
   "cell_type": "code",
   "execution_count": 4,
   "id": "f6e2e6dc",
   "metadata": {},
   "outputs": [],
   "source": [
    "import turtle\n",
    "t= turtle.Turtle()\n",
    "t.shape(\"turtle\")\n",
    "t.forward(100)\n",
    "t.left(120)\n",
    "t.forward(100)\n",
    "t.left(120)\n",
    "t.forward(100)"
   ]
  },
  {
   "cell_type": "code",
   "execution_count": 5,
   "id": "2743b9bb",
   "metadata": {},
   "outputs": [],
   "source": [
    "turtle.done()"
   ]
  },
  {
   "cell_type": "code",
   "execution_count": 1,
   "id": "52e5f4b8",
   "metadata": {},
   "outputs": [
    {
     "name": "stdout",
     "output_type": "stream",
     "text": [
      "원금 : 10000000\n",
      "이율 : 0.03\n",
      "기간 : 5\n",
      "수령금액 : 11592740.743\n"
     ]
    }
   ],
   "source": [
    "principal = 10000000\n",
    "years = 5\n",
    "interest_rate = 0.03\n",
    "money = principal * (1.0 + interest_rate)**years\n",
    "\n",
    "print('원금 :', principal)\n",
    "print('이율 :', interest_rate)\n",
    "print('기간 :', years)\n",
    "print('수령금액 :', money)"
   ]
  },
  {
   "cell_type": "code",
   "execution_count": 2,
   "id": "16297a82",
   "metadata": {},
   "outputs": [
    {
     "name": "stdout",
     "output_type": "stream",
     "text": [
      "원금 : 100000000\n",
      "이율 : 0.03\n",
      "기간 : 5\n",
      "수령금액 : 115927407.43\n"
     ]
    }
   ],
   "source": [
    "principal = 100000000\n",
    "years = 5\n",
    "interest_rate = 0.03\n",
    "money = principal * (1.0 + interest_rate)**years\n",
    "\n",
    "print('원금 :', principal)\n",
    "print('이율 :', interest_rate)\n",
    "print('기간 :', years)\n",
    "print('수령금액 :', money)"
   ]
  },
  {
   "cell_type": "code",
   "execution_count": 1,
   "id": "c94f575c",
   "metadata": {},
   "outputs": [
    {
     "name": "stdout",
     "output_type": "stream",
     "text": [
      "7\n",
      "7\n"
     ]
    }
   ],
   "source": [
    "area = 3+4\n",
    "a = area\n",
    "print(a)\n",
    "\n",
    "area = 10\n",
    "print(a)"
   ]
  },
  {
   "cell_type": "code",
   "execution_count": 3,
   "id": "51105f6d",
   "metadata": {},
   "outputs": [
    {
     "data": {
      "text/plain": [
       "10000000000000000000000000000000000000000000000000000000000000000000000000000000000000000000000000000"
      ]
     },
     "execution_count": 3,
     "metadata": {},
     "output_type": "execute_result"
    }
   ],
   "source": [
    "10 ** 100"
   ]
  },
  {
   "cell_type": "code",
   "execution_count": 7,
   "id": "ad2c68e9",
   "metadata": {},
   "outputs": [
    {
     "data": {
      "text/plain": [
       "0.30000000000000004"
      ]
     },
     "execution_count": 7,
     "metadata": {},
     "output_type": "execute_result"
    }
   ],
   "source": [
    "0.1+0.1+0.1"
   ]
  },
  {
   "cell_type": "code",
   "execution_count": 9,
   "id": "97c12547",
   "metadata": {},
   "outputs": [
    {
     "name": "stdout",
     "output_type": "stream",
     "text": [
      "10\n",
      "10\n"
     ]
    }
   ],
   "source": [
    "circle= 10\n",
    "c = circle\n",
    "print(c) \n",
    "\n",
    "circle = 20\n",
    "print(c)"
   ]
  },
  {
   "cell_type": "code",
   "execution_count": 2,
   "id": "cdf2daa2",
   "metadata": {},
   "outputs": [
    {
     "name": "stdout",
     "output_type": "stream",
     "text": [
      "여성이면 1, 남성이면 0을 입력하세요 :0\n",
      "당신의 키는 얼마입니까? 181\n",
      "당신의 허리 둘레는 얼마입니까? 94\n",
      "당신의 RFM은  25.48936170212766\n"
     ]
    }
   ],
   "source": [
    "a = int(input(\"여성이면 1, 남성이면 0을 입력하세요 :\"))\n",
    "h = int(input(\"당신의 키는 얼마입니까? \"))\n",
    "l = int(input(\"당신의 허리 둘레는 얼마입니까? \"))\n",
    "\n",
    "RFM = 64-(20 * (h/l)) + 12*a\n",
    "\n",
    "print(\"당신의 RFM은 \", RFM)\n",
    "    "
   ]
  }
 ],
 "metadata": {
  "kernelspec": {
   "display_name": "Python 3 (ipykernel)",
   "language": "python",
   "name": "python3"
  },
  "language_info": {
   "codemirror_mode": {
    "name": "ipython",
    "version": 3
   },
   "file_extension": ".py",
   "mimetype": "text/x-python",
   "name": "python",
   "nbconvert_exporter": "python",
   "pygments_lexer": "ipython3",
   "version": "3.9.7"
  }
 },
 "nbformat": 4,
 "nbformat_minor": 5
}
