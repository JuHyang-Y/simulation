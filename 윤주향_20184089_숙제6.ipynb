{
 "cells": [
  {
   "cell_type": "markdown",
   "id": "16aacb67",
   "metadata": {},
   "source": [
    "# 6장 심화문제\n",
    "- 윤주향\n",
    "- 201841089"
   ]
  },
  {
   "cell_type": "markdown",
   "id": "aef2bda7",
   "metadata": {},
   "source": [
    "# 1.중요사항 정리   \n",
    "- 강의에서 가장 중요하고 생각하는 용어, 개념 등을 세 개 이상 써주세요.   \n",
    "   1) 모듈(nodule) : 파이썬 함수나 변수 또는 클래스들을 모아놓은 스크립트 파일을 말한다.   \n",
    "   2) 지역변수(local variable) : 함수 안에서 생성되는 변수를 말한다.   \n",
    "   3) 인자(argument) : 함수 외부에서 함수 안으로 전달하는 값(정보)   \n",
    "   4) 함수 : 일을 수행하는 코드의 덩어리이다.   \n",
    "\n",
    "\n",
    "\n",
    "# 2. 자기 점검\n",
    "\n",
    "   - 강의 중 어려웠던 점이나, 잘 모르겠는 것들을 써주세요.  \n",
    "         소수를 판단하는 함수를 만드는 문제인 6.6과 두가지의 값을 한번에 출력해야하는 6.4문제를 푸는 것이 어려웠다.\n",
    "   \n",
    "\n",
    "# 3. 심화문제 풀기\n",
    "\n",
    "   - 6단원의 심화 문제를 풀어서 제출하세요."
   ]
  },
  {
   "cell_type": "markdown",
   "id": "9fa0f26e",
   "metadata": {},
   "source": [
    "# 6.1"
   ]
  },
  {
   "cell_type": "code",
   "execution_count": 1,
   "id": "11a18bac",
   "metadata": {},
   "outputs": [],
   "source": [
    "def square(n) :\n",
    "    return n**n"
   ]
  },
  {
   "cell_type": "code",
   "execution_count": 2,
   "id": "76f009ff",
   "metadata": {},
   "outputs": [
    {
     "name": "stdout",
     "output_type": "stream",
     "text": [
      "3의 제곱은 : 27\n",
      "4의 제곱은 : 256\n"
     ]
    }
   ],
   "source": [
    "print('3의 제곱은 :', square(3))\n",
    "print('4의 제곱은 :', square(4))"
   ]
  },
  {
   "cell_type": "markdown",
   "id": "593dd8b2",
   "metadata": {},
   "source": [
    "# 6.2"
   ]
  },
  {
   "cell_type": "code",
   "execution_count": 6,
   "id": "266f67c1",
   "metadata": {},
   "outputs": [],
   "source": [
    "def max2(m, n) :\n",
    "    if m > n :\n",
    "        return m\n",
    "    else :\n",
    "        return n\n",
    "    \n",
    "def min2(m, n) :\n",
    "    if m > n :\n",
    "        return n\n",
    "    else : \n",
    "        return m"
   ]
  },
  {
   "cell_type": "code",
   "execution_count": 5,
   "id": "e0127a11",
   "metadata": {},
   "outputs": [
    {
     "name": "stdout",
     "output_type": "stream",
     "text": [
      "100과 200중 큰 수는 : 200\n",
      "100과 200중 작은 수는 : 100\n"
     ]
    }
   ],
   "source": [
    "print('100과 200중 큰 수는 :', max2(100, 200))\n",
    "print('100과 200중 작은 수는 :', min2(100,200))"
   ]
  },
  {
   "cell_type": "markdown",
   "id": "357bed79",
   "metadata": {},
   "source": [
    "# 6.3"
   ]
  },
  {
   "cell_type": "code",
   "execution_count": 12,
   "id": "d00c8891",
   "metadata": {},
   "outputs": [],
   "source": [
    "def max3(n1, n2, n3) :\n",
    "    if n1>n2>n3 or n1>n3>n2 : \n",
    "        return n1 \n",
    "    elif n2>n1>n3 or n2>n3>n1 :\n",
    "        return n2\n",
    "    else :\n",
    "        return n3\n",
    "    \n",
    "def min3(n1,n2,n3) :\n",
    "    if n1>n2>n3 or n2>n1>n3 :\n",
    "        return n3\n",
    "    elif n1>n3>n2 or n3>n1>n2 :\n",
    "        return n2\n",
    "    else :\n",
    "        return n1"
   ]
  },
  {
   "cell_type": "code",
   "execution_count": 14,
   "id": "a572a6a3",
   "metadata": {},
   "outputs": [
    {
     "name": "stdout",
     "output_type": "stream",
     "text": [
      "3수를 입력하시오 : 34 66 20\n",
      "가장 큰 수 :  66\n",
      "가장 작은 수 :  20\n"
     ]
    }
   ],
   "source": [
    "arr = input(\"3수를 입력하시오 : \")\n",
    "a = arr.split(' ')\n",
    "n1, n2, n3 = int(a[0]), int(a[1]), int(a[2])\n",
    "\n",
    "print('가장 큰 수 : ',max3(n1, n2, n3))\n",
    "print('가장 작은 수 : ', min3(n1, n2, n3))"
   ]
  },
  {
   "cell_type": "markdown",
   "id": "aed920b7",
   "metadata": {},
   "source": [
    "# 6.4"
   ]
  },
  {
   "cell_type": "code",
   "execution_count": 9,
   "id": "0e3b811d",
   "metadata": {},
   "outputs": [],
   "source": [
    "def max_and_min(n1,n2,n3) : \n",
    "    a = input(\"3수를 입력하시오 : \").split()\n",
    "    a.sort()\n",
    "    n1, n2, n3 = int(a[0]), int(a[1]), int(a[2])\n",
    "    \n",
    "    print(\"가장 큰 수 : \" , n3)\n",
    "    print(\"가장 작은 수 : \" , n1)"
   ]
  },
  {
   "cell_type": "code",
   "execution_count": 5,
   "id": "00ae01f7",
   "metadata": {
    "scrolled": true
   },
   "outputs": [
    {
     "ename": "NameError",
     "evalue": "name 'n1' is not defined",
     "output_type": "error",
     "traceback": [
      "\u001b[1;31m---------------------------------------------------------------------------\u001b[0m",
      "\u001b[1;31mNameError\u001b[0m                                 Traceback (most recent call last)",
      "\u001b[1;32m~\\AppData\\Local\\Temp/ipykernel_166204/2456267071.py\u001b[0m in \u001b[0;36m<module>\u001b[1;34m\u001b[0m\n\u001b[1;32m----> 1\u001b[1;33m \u001b[0mmax_and_min\u001b[0m\u001b[1;33m(\u001b[0m\u001b[0mn1\u001b[0m\u001b[1;33m,\u001b[0m\u001b[0mn2\u001b[0m\u001b[1;33m,\u001b[0m\u001b[0mn3\u001b[0m\u001b[1;33m)\u001b[0m\u001b[1;33m\u001b[0m\u001b[1;33m\u001b[0m\u001b[0m\n\u001b[0m",
      "\u001b[1;31mNameError\u001b[0m: name 'n1' is not defined"
     ]
    }
   ],
   "source": [
    "max_and_min(n1,n2,n3)"
   ]
  },
  {
   "cell_type": "code",
   "execution_count": null,
   "id": "1de97198",
   "metadata": {},
   "outputs": [],
   "source": [
    "n1, n2, n3 = map(int, input(\"세 정수 입력\").split())\n",
    "\n",
    "big, small = max_and_min(n1,n2,n3)\n",
    "print(\"가장 큰 수 :\",big)\n",
    "print(\"가장 작은 수 :\",small)"
   ]
  },
  {
   "cell_type": "code",
   "execution_count": null,
   "id": "6312d313",
   "metadata": {},
   "outputs": [],
   "source": [
    "bigandsmall = max_and_min(n1,n2,n3)\n",
    "bigandsmall[0], big"
   ]
  },
  {
   "cell_type": "markdown",
   "id": "daeec4b6",
   "metadata": {},
   "source": [
    "# 6.5"
   ]
  },
  {
   "cell_type": "code",
   "execution_count": 26,
   "id": "6b0b9fcd",
   "metadata": {},
   "outputs": [],
   "source": [
    "def cel2fah(c) : \n",
    "        return (9/5) * c + 32"
   ]
  },
  {
   "cell_type": "code",
   "execution_count": 28,
   "id": "cf085010",
   "metadata": {},
   "outputs": [
    {
     "name": "stdout",
     "output_type": "stream",
     "text": [
      "32.0\n",
      "50.0\n",
      "68.0\n",
      "86.0\n",
      "104.0\n",
      "122.0\n"
     ]
    }
   ],
   "source": [
    "for c in range(0, 51, 10) :\n",
    "    print(cel2fah(c))"
   ]
  },
  {
   "cell_type": "markdown",
   "id": "297868f7",
   "metadata": {},
   "source": [
    "# 6.6"
   ]
  },
  {
   "cell_type": "code",
   "execution_count": 6,
   "id": "7b541460",
   "metadata": {},
   "outputs": [],
   "source": [
    "def is_prime(x):\n",
    "    for i in range(2, x):\n",
    "        # 2부터 x-1까지의 수 중에서 x가 해당 수로 나누어떨어진다면\n",
    "        if x % i == 0:\n",
    "            return False #소수가 아니다.\n",
    "    return True #소수이다"
   ]
  },
  {
   "cell_type": "code",
   "execution_count": 7,
   "id": "6e7e08ef",
   "metadata": {},
   "outputs": [
    {
     "name": "stdout",
     "output_type": "stream",
     "text": [
      "소수 검사를 할 정수를 입력하시오 : 9677\n",
      "소수인가요? :  True\n",
      "소수 검사를 할 정수를 입력하시오 : 13\n",
      "소수인가요? :  True\n",
      "소수 검사를 할 정수를 입력하시오 : 4\n",
      "소수인가요? :  False\n",
      "소수 검사를 할 정수를 입력하시오 : 12347987345345\n",
      "소수인가요? :  False\n"
     ]
    }
   ],
   "source": [
    "for a in range(4) :\n",
    "    x = int(input(\"소수 검사를 할 정수를 입력하시오 : \"))\n",
    "    print(\"소수인가요? : \",is_prime(x))"
   ]
  },
  {
   "cell_type": "markdown",
   "id": "190ac8df",
   "metadata": {},
   "source": [
    "# 6.7"
   ]
  },
  {
   "cell_type": "code",
   "execution_count": 15,
   "id": "b54f29d5",
   "metadata": {},
   "outputs": [],
   "source": [
    "def factorial(n) :\n",
    "    result = 1\n",
    "    for i in range(1, n+1, 1) :\n",
    "        result *= i\n",
    "    return(result)"
   ]
  },
  {
   "cell_type": "code",
   "execution_count": 16,
   "id": "cde7db3f",
   "metadata": {},
   "outputs": [
    {
     "name": "stdout",
     "output_type": "stream",
     "text": [
      "factorial(5) =  120\n",
      "factorial(7) =  5040\n",
      "factorial(10) =  3628800\n"
     ]
    }
   ],
   "source": [
    "print('factorial(5) = ',factorial(5))\n",
    "print('factorial(7) = ',factorial(7))\n",
    "print('factorial(10) = ',factorial(10))"
   ]
  },
  {
   "cell_type": "markdown",
   "id": "d1b287c2",
   "metadata": {},
   "source": [
    "# 6.8"
   ]
  },
  {
   "cell_type": "code",
   "execution_count": 7,
   "id": "251113e9",
   "metadata": {},
   "outputs": [],
   "source": [
    "def distance(x1, y1, x2, y2) :\n",
    "    import math\n",
    "    d = math.sqrt((x1-x2)**2+(y1-y2)**2)\n",
    "    return d"
   ]
  },
  {
   "cell_type": "code",
   "execution_count": 8,
   "id": "5d6bc9bc",
   "metadata": {},
   "outputs": [
    {
     "name": "stdout",
     "output_type": "stream",
     "text": [
      "x1: 4\n",
      "y1: 2\n",
      "x2: 2\n",
      "y2: 1\n",
      "(4.0,2.0)과 (2.0,1.0) 사이의 거리는  2.23606797749979\n"
     ]
    }
   ],
   "source": [
    "x1 = float(input(\"x1: \"))\n",
    "y1 = float(input(\"y1: \"))\n",
    "x2 = float(input(\"x2: \"))\n",
    "y2 = float(input(\"y2: \"))\n",
    "\n",
    "print(\"({0},{1})과 ({2},{3})\".format(x1,y1,x2,y2),\"사이의 거리는 \",distance(x1, y1, x2, y2))"
   ]
  }
 ],
 "metadata": {
  "kernelspec": {
   "display_name": "Python 3 (ipykernel)",
   "language": "python",
   "name": "python3"
  },
  "language_info": {
   "codemirror_mode": {
    "name": "ipython",
    "version": 3
   },
   "file_extension": ".py",
   "mimetype": "text/x-python",
   "name": "python",
   "nbconvert_exporter": "python",
   "pygments_lexer": "ipython3",
   "version": "3.9.7"
  }
 },
 "nbformat": 4,
 "nbformat_minor": 5
}
