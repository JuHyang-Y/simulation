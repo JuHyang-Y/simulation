{
 "cells": [
  {
   "cell_type": "markdown",
   "id": "504c3365",
   "metadata": {},
   "source": [
    "# 2장 심화문제   \n",
    "- 윤주향\n",
    "- 20184089"
   ]
  },
  {
   "cell_type": "markdown",
   "id": "afb319c9",
   "metadata": {},
   "source": [
    "# 1.중요사항 정리   \n",
    "- 강의에서 가장 중요하고 생각하는 용어, 개념 등을 세 개 이상 써주세요.   \n",
    "1) 변수 : 변수에 데이터를 저장한다   \n",
    "2) 할당연산자(=대입연산자) : '='기호로 '같다'는 등호의 의미가 아닌, 오른쪽의 값을 왼쪽의 변수에 저장하라는 의미이다.   \n",
    "3) type() : 파이썬에서 변수의 자료형을 알려준다.   \n",
    "4) 이스케이프 문자 : 특수한 목적으로 사용되는 역슬래시\n",
    "\n",
    "\n",
    "# 2. 자기 점검\n",
    "\n",
    "   - 강의 중 어려웠던 점이나, 잘 모르겠는 것들을 써주세요   \n",
    "   섭씨, 화씨 문제를 풀면서 변수를 너무 길게 저장해놔서 코드를 적을 때와 2.11문제를 풀 때 역슬래씨를 너무 많이 쓰다보니 헷갈려서 어려움을 느꼈다.\n",
    "\n",
    "\n",
    "# 3. 심화문제 풀기\n",
    "\n",
    "   - 2단원의 심화 문제를 풀어서 제출하세요."
   ]
  },
  {
   "cell_type": "markdown",
   "id": "683f29e2",
   "metadata": {},
   "source": [
    "## 2.1"
   ]
  },
  {
   "cell_type": "code",
   "execution_count": 1,
   "id": "31513679",
   "metadata": {},
   "outputs": [
    {
     "name": "stdout",
     "output_type": "stream",
     "text": [
      "100 + 200 = 300\n",
      "200 + 300 + 400 = 900\n"
     ]
    }
   ],
   "source": [
    "print(100,'+',200,'=',100+200)   \n",
    "\n",
    "print(200,'+',300,'+',400,'=',200+300+400)"
   ]
  },
  {
   "cell_type": "markdown",
   "id": "d6da5344",
   "metadata": {},
   "source": [
    "## 2.2"
   ]
  },
  {
   "cell_type": "code",
   "execution_count": 2,
   "id": "56c58c80",
   "metadata": {},
   "outputs": [
    {
     "name": "stdout",
     "output_type": "stream",
     "text": [
      "30\n",
      "60\n"
     ]
    }
   ],
   "source": [
    "width = 30\n",
    "height = 60\n",
    "\n",
    "print(width)\n",
    "print(height)"
   ]
  },
  {
   "cell_type": "markdown",
   "id": "31cade8f",
   "metadata": {},
   "source": [
    "## 2.3"
   ]
  },
  {
   "cell_type": "code",
   "execution_count": 5,
   "id": "9699cf0f",
   "metadata": {},
   "outputs": [
    {
     "name": "stdout",
     "output_type": "stream",
     "text": [
      "30\n",
      "60\n"
     ]
    }
   ],
   "source": [
    "width, height = 30, 60\n",
    "\n",
    "print(width)\n",
    "print(height)"
   ]
  },
  {
   "cell_type": "markdown",
   "id": "2394a1a5",
   "metadata": {},
   "source": [
    "## 2.4"
   ]
  },
  {
   "cell_type": "code",
   "execution_count": 10,
   "id": "c97e6286",
   "metadata": {},
   "outputs": [
    {
     "name": "stdout",
     "output_type": "stream",
     "text": [
      "삼각형의 면적 : 400.0\n"
     ]
    }
   ],
   "source": [
    "# 동시에 width와 height에 40과 20 값을 할당\n",
    "width, height = 40, 20\n",
    "\n",
    "#삼각형의 면적(area)을 구하는 프로그램\n",
    "area = 1/2 * width * height\n",
    "\n",
    "print('삼각형의 면적 :', area)"
   ]
  },
  {
   "cell_type": "markdown",
   "id": "47b3d32f",
   "metadata": {},
   "source": [
    "## 2.5"
   ]
  },
  {
   "cell_type": "code",
   "execution_count": 11,
   "id": "95235480",
   "metadata": {},
   "outputs": [
    {
     "name": "stdout",
     "output_type": "stream",
     "text": [
      "정사각형의 밑변을 입력하시오 : 40\n",
      "정사각형의 면적 : 1600\n"
     ]
    }
   ],
   "source": [
    "#입력받은 정사각형의 밑변의 길이를 width에 저장한다.\n",
    "width = int(input('정사각형의 밑변을 입력하시오 : '))\n",
    "\n",
    "#정사각형의 면적을 구하는 식\n",
    "area = width * width\n",
    "\n",
    "print('정사각형의 면적 :', area)"
   ]
  },
  {
   "cell_type": "markdown",
   "id": "f56e0c20",
   "metadata": {},
   "source": [
    "## 2.6"
   ]
  },
  {
   "cell_type": "code",
   "execution_count": 12,
   "id": "e86ad135",
   "metadata": {},
   "outputs": [
    {
     "name": "stdout",
     "output_type": "stream",
     "text": [
      "1에서 10까지의 합 : 55\n"
     ]
    }
   ],
   "source": [
    "print('1에서 10까지의 합 :',1+2+3+4+5+6+7+8+9+10)"
   ]
  },
  {
   "cell_type": "markdown",
   "id": "79bfe813",
   "metadata": {},
   "source": [
    "## 2.7"
   ]
  },
  {
   "cell_type": "code",
   "execution_count": 13,
   "id": "e30cc455",
   "metadata": {
    "scrolled": true
   },
   "outputs": [
    {
     "name": "stdout",
     "output_type": "stream",
     "text": [
      "10! = 3628800\n"
     ]
    }
   ],
   "source": [
    "print('10! =', 1*2*3*4*5*6*7*8*9*10)"
   ]
  },
  {
   "cell_type": "markdown",
   "id": "b4777301",
   "metadata": {},
   "source": [
    "## 2.8"
   ]
  },
  {
   "cell_type": "code",
   "execution_count": 18,
   "id": "0445c2d0",
   "metadata": {},
   "outputs": [
    {
     "name": "stdout",
     "output_type": "stream",
     "text": [
      "섭씨 화씨\n",
      "0 32.0\n",
      "10 50.0\n",
      "20 68.0\n",
      "30 86.0\n",
      "40 104.0\n",
      "50 122.0\n"
     ]
    }
   ],
   "source": [
    "print('섭씨 화씨')\n",
    "\n",
    "celsius = 0\n",
    "fahrenheit = (9/5) * celsius + 32\n",
    "print(celsius, fahrenheit)\n",
    "\n",
    "celsius = 10\n",
    "fahrenheit = (9/5) * celsius + 32\n",
    "print(celsius, fahrenheit)\n",
    "\n",
    "celsius = 20\n",
    "fahrenheit = (9/5) * celsius + 32\n",
    "print(celsius, fahrenheit)\n",
    "\n",
    "celsius = 30\n",
    "fahrenheit = (9/5) * celsius + 32\n",
    "print(celsius, fahrenheit)\n",
    "\n",
    "celsius = 40\n",
    "fahrenheit = (9/5) * celsius + 32\n",
    "print(celsius, fahrenheit)\n",
    "\n",
    "celsius = 50\n",
    "fahrenheit = (9/5) * celsius + 32\n",
    "print(celsius, fahrenheit)"
   ]
  },
  {
   "cell_type": "markdown",
   "id": "fa3e9fc5",
   "metadata": {},
   "source": [
    "## 2.9"
   ]
  },
  {
   "cell_type": "code",
   "execution_count": 19,
   "id": "14a614ad",
   "metadata": {},
   "outputs": [
    {
     "name": "stdout",
     "output_type": "stream",
     "text": [
      "섭씨온도를 입력하시오 :30\n",
      "섭씨 30 도는 화씨 86.0 입니다.\n"
     ]
    }
   ],
   "source": [
    "celsius = int(input('섭씨온도를 입력하시오 :'))\n",
    "\n",
    "fahrenheit = (9/5) * celsius + 32\n",
    "\n",
    "print('섭씨',celsius,'도는 화씨',fahrenheit,'입니다.')"
   ]
  },
  {
   "cell_type": "markdown",
   "id": "293b4520",
   "metadata": {},
   "source": [
    "## 2.10"
   ]
  },
  {
   "cell_type": "code",
   "execution_count": 20,
   "id": "69064eaa",
   "metadata": {},
   "outputs": [
    {
     "name": "stdout",
     "output_type": "stream",
     "text": [
      "원의 반지름을 입력하세요 :11\n",
      "원의 둘레 = 69.115024 원의 면적 = 380.13263200000006\n"
     ]
    }
   ],
   "source": [
    "r = int(input('원의 반지름을 입력하세요 :'))\n",
    "\n",
    "pi = 3.141592\n",
    "#원의 둘레\n",
    "c = 2 * pi * r\n",
    "#원의 면적\n",
    "a = pi * r * r\n",
    "\n",
    "print('원의 둘레 =', c,'원의 면적 =', a)"
   ]
  },
  {
   "cell_type": "markdown",
   "id": "6f7f8291",
   "metadata": {},
   "source": [
    "## 2.11"
   ]
  },
  {
   "cell_type": "code",
   "execution_count": 5,
   "id": "b94a97f6",
   "metadata": {},
   "outputs": [
    {
     "name": "stdout",
     "output_type": "stream",
     "text": [
      "It's really hot!\n",
      "I said \"Hello!\" to him.\n",
      "He said \"What's there?\"\n",
      "Newline character is \\n, Tab character is \\t.\n",
      "Working directory is C:\\workspace\\mywork\n"
     ]
    }
   ],
   "source": [
    "#작성한 코드를 쉽게 보기 위해 두번 나누어서 작성하였다.\n",
    "print('It\\'s really hot!\\nI said \"Hello!\" to him.\\nHe said \"What\\'s there?\"')\n",
    "print('Newline character is \\\\n, Tab character is \\\\t.\\nWorking directory is C:\\\\workspace\\\\mywork')"
   ]
  }
 ],
 "metadata": {
  "kernelspec": {
   "display_name": "Python 3 (ipykernel)",
   "language": "python",
   "name": "python3"
  },
  "language_info": {
   "codemirror_mode": {
    "name": "ipython",
    "version": 3
   },
   "file_extension": ".py",
   "mimetype": "text/x-python",
   "name": "python",
   "nbconvert_exporter": "python",
   "pygments_lexer": "ipython3",
   "version": "3.9.7"
  }
 },
 "nbformat": 4,
 "nbformat_minor": 5
}
