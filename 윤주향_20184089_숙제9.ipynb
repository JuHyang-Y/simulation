{
 "cells": [
  {
   "cell_type": "markdown",
   "id": "ac318bb3",
   "metadata": {},
   "source": [
    "# 10장 심화문제\n",
    "- 윤주향\n",
    "- 201841089"
   ]
  },
  {
   "cell_type": "markdown",
   "id": "3c2cf925",
   "metadata": {},
   "source": [
    "# 1.중요사항 정리   \n",
    "- 강의에서 가장 중요하고 생각하는 용어, 개념 등을 세 개 이상 써주세요.   \n",
    "   1) 넘파이(Numpy) : 대용량의 배열과 행렬연산을 빠르게 수행하고, 고차원적인 수학 연산자와 함수를 포함하고 있는 파이썬 라이브러리이다.     \n",
    "   2) 넘파이의 다차원배열(ndarray)는 프로그램의 오류를 찾거나 배열의 상세한 정보를 손쉽게 조회할 수 잇다.     \n",
    "   3) 넘파이 배열에는 +연산자나 * 연산자와 같은 수학적인 연산자를 얼마든지 적용할 수 있다.     \n",
    "      \n",
    "\n",
    "\n",
    "# 2. 자기 점검\n",
    "\n",
    "   - 강의 중 어려웠던 점이나, 잘 모르겠는 것들을 써주세요.  \n",
    "     \n",
    "     문제 10.3을 푸는데 문제에서 랜덤시드가 주어지지 않아 랜덤시드를 100으로 주고 풀었는데, 이렇게 풀어도 되나요??    \n",
    "   \n",
    "\n",
    "# 3. 심화문제 풀기\n",
    "\n",
    "   - 10단원의 심화 문제를 풀어서 제출하세요."
   ]
  },
  {
   "cell_type": "markdown",
   "id": "9db1795d",
   "metadata": {},
   "source": [
    "# 10.1"
   ]
  },
  {
   "cell_type": "code",
   "execution_count": 2,
   "id": "4d0affc3",
   "metadata": {},
   "outputs": [
    {
     "name": "stdout",
     "output_type": "stream",
     "text": [
      "[ 1  2  3  4  5  6  7  8  9 10 11 12 13 14 15 16 17 18 19 20]\n",
      "[20 19 18 17 16 15 14 13 12 11 10  9  8  7  6  5  4  3  2  1]\n",
      "num_arr 내의 모든 원소의 합 :  210\n",
      "[[ 1  2  3  4]\n",
      " [ 5  6  7  8]\n",
      " [ 9 10 11 12]\n",
      " [13 14 15 16]\n",
      " [17 18 19 20]]\n"
     ]
    }
   ],
   "source": [
    "import numpy as np\n",
    "num_arr = np.array([1, 2, 3, 4, 5, 6, 7, 8, 9, 10, 11, 12, 13, 14, 15, 16, 17, 18, 19, 20])\n",
    "print(num_arr)\n",
    "print(num_arr[::-1])\n",
    "print(\"num_arr 내의 모든 원소의 합 : \", sum(num_arr))\n",
    "print(num_arr.reshape(5, 4))"
   ]
  },
  {
   "cell_type": "markdown",
   "id": "a57aa0f1",
   "metadata": {},
   "source": [
    "# 10.2"
   ]
  },
  {
   "cell_type": "code",
   "execution_count": 36,
   "id": "d251c217",
   "metadata": {},
   "outputs": [
    {
     "name": "stdout",
     "output_type": "stream",
     "text": [
      "[[ 0  1  2  3  4]\n",
      " [ 5  6  7  8  9]\n",
      " [10 11 12 13 14]\n",
      " [15 16 17 18 19]\n",
      " [20 21 22 23 24]]\n"
     ]
    }
   ],
   "source": [
    "#1)\n",
    "n = np.arange(25)\n",
    "n_arr = n.reshape(5,5)\n",
    "print(n_arr)"
   ]
  },
  {
   "cell_type": "code",
   "execution_count": 13,
   "id": "071e108e",
   "metadata": {},
   "outputs": [
    {
     "name": "stdout",
     "output_type": "stream",
     "text": [
      "첫 원소 : 0 \n",
      "마지막 원소 : 24\n"
     ]
    }
   ],
   "source": [
    "#2)\n",
    "print(\"첫 원소 : {0} \\n마지막 원소 : {1}\".format(n_arr[0,0],n_arr[4,-1]))"
   ]
  },
  {
   "cell_type": "code",
   "execution_count": 37,
   "id": "2cdb377a",
   "metadata": {},
   "outputs": [
    {
     "name": "stdout",
     "output_type": "stream",
     "text": [
      "[[0 1 2 3 4]\n",
      " [5 6 7 8 9]]\n"
     ]
    }
   ],
   "source": [
    "#3)\n",
    "print(n_arr[0:2,::1])"
   ]
  },
  {
   "cell_type": "code",
   "execution_count": 38,
   "id": "c936ab9e",
   "metadata": {},
   "outputs": [
    {
     "name": "stdout",
     "output_type": "stream",
     "text": [
      "[[10 11 12 13 14]\n",
      " [15 16 17 18 19]\n",
      " [20 21 22 23 24]]\n"
     ]
    }
   ],
   "source": [
    "#4)\n",
    "print(n_arr[2::, ::1])"
   ]
  },
  {
   "cell_type": "code",
   "execution_count": 39,
   "id": "f72b6115",
   "metadata": {},
   "outputs": [
    {
     "name": "stdout",
     "output_type": "stream",
     "text": [
      "[[ 0  2  4]\n",
      " [ 5  7  9]\n",
      " [10 12 14]\n",
      " [15 17 19]\n",
      " [20 22 24]]\n"
     ]
    }
   ],
   "source": [
    "#5)\n",
    "print(n_arr[::1, ::2])"
   ]
  },
  {
   "cell_type": "code",
   "execution_count": 40,
   "id": "b462758a",
   "metadata": {},
   "outputs": [
    {
     "name": "stdout",
     "output_type": "stream",
     "text": [
      "[[ 0  2  4]\n",
      " [10 12 14]\n",
      " [20 22 24]]\n"
     ]
    }
   ],
   "source": [
    "#6)\n",
    "print(n_arr[::2, ::2])"
   ]
  },
  {
   "cell_type": "code",
   "execution_count": 41,
   "id": "c22975fe",
   "metadata": {},
   "outputs": [
    {
     "name": "stdout",
     "output_type": "stream",
     "text": [
      "[[0 1]\n",
      " [2 3]\n",
      " [4 5]\n",
      " [6 7]\n",
      " [8 9]]\n"
     ]
    }
   ],
   "source": [
    "#7)\n",
    "s = n_arr[0:2,::1]\n",
    "print(s.reshape(5,2))"
   ]
  },
  {
   "cell_type": "markdown",
   "id": "91991388",
   "metadata": {},
   "source": [
    "# 10.3"
   ]
  },
  {
   "cell_type": "code",
   "execution_count": 47,
   "id": "49a1e938",
   "metadata": {},
   "outputs": [
    {
     "name": "stdout",
     "output_type": "stream",
     "text": [
      "[[[0.54340494 0.27836939 0.42451759]\n",
      "  [0.84477613 0.00471886 0.12156912]\n",
      "  [0.67074908 0.82585276 0.13670659]]\n",
      "\n",
      " [[0.57509333 0.89132195 0.20920212]\n",
      "  [0.18532822 0.10837689 0.21969749]\n",
      "  [0.97862378 0.81168315 0.17194101]]\n",
      "\n",
      " [[0.81622475 0.27407375 0.43170418]\n",
      "  [0.94002982 0.81764938 0.33611195]\n",
      "  [0.17541045 0.37283205 0.00568851]]]\n"
     ]
    }
   ],
   "source": [
    "#1)\n",
    "np.random.seed(100) #랜덤시드를 임의의 수인 100으로 지정했다.\n",
    "a = np.random.rand(3,3,3)\n",
    "print(a)"
   ]
  },
  {
   "cell_type": "code",
   "execution_count": 48,
   "id": "77fd2ab4",
   "metadata": {},
   "outputs": [
    {
     "name": "stdout",
     "output_type": "stream",
     "text": [
      "a의 원소들 중 최댓값 :  0.9786237847073697\n"
     ]
    }
   ],
   "source": [
    "#2)\n",
    "print(\"a의 원소들 중 최댓값 : \",np.max(a))"
   ]
  },
  {
   "cell_type": "code",
   "execution_count": 49,
   "id": "dd4ee73b",
   "metadata": {},
   "outputs": [
    {
     "name": "stdout",
     "output_type": "stream",
     "text": [
      "a의 원소들 중 최댓값의 위치 :  15\n"
     ]
    }
   ],
   "source": [
    "#3)\n",
    "print(\"a의 원소들 중 최댓값의 위치 : \",np.argmax(a))"
   ]
  },
  {
   "cell_type": "markdown",
   "id": "87f422fd",
   "metadata": {},
   "source": [
    "# 10.4"
   ]
  },
  {
   "cell_type": "code",
   "execution_count": 104,
   "id": "98511df0",
   "metadata": {},
   "outputs": [
    {
     "name": "stdout",
     "output_type": "stream",
     "text": [
      "[[1 0 1 0 1]\n",
      " [0 1 0 1 0]\n",
      " [1 0 1 0 1]\n",
      " [0 1 0 1 0]\n",
      " [1 0 1 0 1]]\n"
     ]
    }
   ],
   "source": [
    "#1)\n",
    "x = np.zeros((5,5), dtype = int) #모두 0인 5*5배열\n",
    "x[::2, ::2] = 1 \n",
    "x[1::2,1::2] = 1 #해당위치에 직접 1을 넣어서 생성한다.\n",
    "print(x)"
   ]
  },
  {
   "cell_type": "code",
   "execution_count": 107,
   "id": "48f126dd",
   "metadata": {},
   "outputs": [
    {
     "name": "stdout",
     "output_type": "stream",
     "text": [
      "행렬의 행 방향 성분의 합 :\n",
      "[3, 2, 3, 2, 3]\n"
     ]
    }
   ],
   "source": [
    "#2)\n",
    "print(\"행렬의 행 방향 성분의 합 :\")\n",
    "arr = [sum(x[i]) for i in range(0,5)]\n",
    "print(arr)"
   ]
  },
  {
   "cell_type": "markdown",
   "id": "2c6816bf",
   "metadata": {},
   "source": [
    "# 10.5"
   ]
  },
  {
   "cell_type": "code",
   "execution_count": 65,
   "id": "7d200ffe",
   "metadata": {},
   "outputs": [],
   "source": [
    "a = np.arange(0,32).reshape(4,4,2)"
   ]
  },
  {
   "cell_type": "code",
   "execution_count": 64,
   "id": "0830506a",
   "metadata": {},
   "outputs": [
    {
     "name": "stdout",
     "output_type": "stream",
     "text": [
      "10번째 원소 : 9\n",
      "20번째 원소 : 19\n"
     ]
    }
   ],
   "source": [
    "b = a.flatten() #flatten()함수는 여러 행렬의 함수를 하나의 행 또는 열로 변환해준다. \n",
    "print(\"10번째 원소 : {}\\n20번째 원소 : {}\".format(b[9],b[19]))"
   ]
  },
  {
   "cell_type": "markdown",
   "id": "61651967",
   "metadata": {},
   "source": [
    "# 10.6"
   ]
  },
  {
   "cell_type": "code",
   "execution_count": 72,
   "id": "0938a67a",
   "metadata": {},
   "outputs": [],
   "source": [
    "x1 = [i for i in range(100)]\n",
    "x2 = [i + np.random.randint(1,10) for i in range(100)]\n",
    "x3 = [i + np.random.randint(1,50) for i in range(100)]\n",
    "x4 = [np.random.randint(1,100) for i in range(100)]"
   ]
  },
  {
   "cell_type": "code",
   "execution_count": 76,
   "id": "d3772340",
   "metadata": {},
   "outputs": [
    {
     "name": "stdout",
     "output_type": "stream",
     "text": [
      "[[ 1.          0.99605685  0.87687476  0.01575329]\n",
      " [ 0.99605685  1.          0.8678746  -0.00244552]\n",
      " [ 0.87687476  0.8678746   1.          0.08084923]\n",
      " [ 0.01575329 -0.00244552  0.08084923  1.        ]]\n"
     ]
    }
   ],
   "source": [
    "result = np.corrcoef( [x1, x2, x3, x4] )\n",
    "print(result)"
   ]
  },
  {
   "cell_type": "markdown",
   "id": "4232e395",
   "metadata": {},
   "source": [
    "상관관계   \n",
    "x1과 x2 : 0.9961   \n",
    "x1과 x3 : 0.8769   \n",
    "x1과 x4 ; 0.0158   "
   ]
  },
  {
   "cell_type": "markdown",
   "id": "bca9bd8c",
   "metadata": {},
   "source": [
    "### 1) x1과 가장 상관관계가 높은 리스트는 무엇인가? x2   \n",
    "### 2) x1과 가장 상관관계가 낮은 리스트는 무엇인가? x4   "
   ]
  }
 ],
 "metadata": {
  "kernelspec": {
   "display_name": "Python 3 (ipykernel)",
   "language": "python",
   "name": "python3"
  },
  "language_info": {
   "codemirror_mode": {
    "name": "ipython",
    "version": 3
   },
   "file_extension": ".py",
   "mimetype": "text/x-python",
   "name": "python",
   "nbconvert_exporter": "python",
   "pygments_lexer": "ipython3",
   "version": "3.9.7"
  }
 },
 "nbformat": 4,
 "nbformat_minor": 5
}
