{
 "cells": [
  {
   "cell_type": "markdown",
   "id": "0d939912",
   "metadata": {},
   "source": [
    "# 1장 심화문제\n",
    "\n",
    "- 윤주향\n",
    "- 20184089"
   ]
  },
  {
   "cell_type": "markdown",
   "id": "98723d56",
   "metadata": {},
   "source": [
    "## 1.중요사항 정리   \n",
    "    - 강의에서 가장 중요하고 생각하는 용어, 개념 등을 세 개 이상 써주세요.\n",
    "1) 통합 개발 환경(integrated development environment)   \n",
    "2) 주석 : 컴퓨터를 위한 것이 아닌 프로그램을 읽는 사람을 위한 것으로 #과 ‘’‘ ... ’‘’(또는 “”“...”“”) 가 쓰인다.   \n",
    "3) pip : 파이썬의 패키지 관리 소프트웨어로 파이썬 표준 라이브러리에 포함되지 않은 외부 라이브러리를 설치하도록 도와주는 도구이다.    \n",
    "\n",
    "## 2. 자기 점검   \n",
    "    - 강의 중 어려웠던 점이나, 잘 모르겠는 것들을 써주세요\n",
    "  저번 학기에 파이썬을 배워서 어렵지 않게 채울 것이라고 생각했는데,   \n",
    "  용어적인 부분에서 어려움을 느끼는 것을 보면서 좀 더 공부해야 겠다고 생각하게 되었습니다. "
   ]
  },
  {
   "cell_type": "markdown",
   "id": "2dba5382",
   "metadata": {},
   "source": [
    "1.1   \n",
    "\n",
    "1) 프로그래밍   \n",
    ": 컴퓨터가 동작하도록 명령어를 나열하여 작성하는 과정이다.\n",
    "\n",
    "2) 인터프리터   \n",
    ": 프로그래밍 언어의 소스 코드를 바로 실행하는 컴퓨터 프로그램 또는 환경이다.   \n",
    "\n",
    "3) 컴파일러    \n",
    ": 특정 프로그래밍 언어로 쓰여 있는 문서를 다른 프로그래밍 언어로 옮기는 언어 번역 프로그램이다.   \n",
    "\n",
    "4) 통합개발환경    \n",
    ": 코딩, 디버그, 컴파일, 배포 등 프로그램 개발에 관련된 모든 작업을 하나의 프로그램 안에서 처리하는 환경을 제공하는 소프트웨어이다.   \n",
    "\n",
    "5) 프롬프트    \n",
    ": 시스템이 다음 명령이나 메시지, 다른 사용자의 행동을 받아들일 준비가 되었음을 사용자에게 알려 주는 메시지이다.\n",
    "   \n",
    "6) 라이브러리    \n",
    ": 주로 소프트웨어를 개발할 때 컴퓨터 프로그램이 사용하는 비휘발성 자원의 모임이다.   \n",
    "\n",
    "7) 문자열    \n",
    ": 기호와 순차 수열이고, 스트링(string)이라고도 한다.   \n",
    "\n",
    "8) 표현식    \n",
    ": 특정한 규칙을 가진 문자열의 집합을 표현하는데 사용하는 형식 언어이다.\n"
   ]
  },
  {
   "cell_type": "markdown",
   "id": "a6c00db3",
   "metadata": {},
   "source": [
    "1.2\n",
    "\n",
    "새로운 파이썬 스크립트 모듈 만들기 : Ctrl + N   \n",
    "파이썬 스크립트 모듈을 실행하기 : F5   \n",
    "파이썬 스크립트 코드를 불러오기 : Ctrl + O   \n",
    "파이썬 shell에서 이전에 실행한 코드 불러오기 : Alt + N    \n",
    "파이썬 shell에서 파이썬 개발을 위한 문서 불러오기 : F1 #잘 모르겠습니다."
   ]
  },
  {
   "cell_type": "markdown",
   "id": "594302da",
   "metadata": {},
   "source": [
    "1.3"
   ]
  },
  {
   "cell_type": "code",
   "execution_count": 3,
   "id": "47a38610",
   "metadata": {},
   "outputs": [
    {
     "name": "stdout",
     "output_type": "stream",
     "text": [
      "100\n",
      "300\n",
      "100+200\n",
      "100 200\n",
      "100 200\n",
      "100200\n",
      "Hello Python!\n",
      "Hello Python !\n",
      "HelloPython!\n",
      "HelloPython!\n",
      "********************\n",
      "********************\n"
     ]
    }
   ],
   "source": [
    "#(1)\n",
    "print(100)\n",
    "#(2)\n",
    "print(100+200)\n",
    "#(3)\n",
    "print('100+200')\n",
    "#(4)\n",
    "print(100, 200)\n",
    "#(5)\n",
    "print('100', '200')\n",
    "#(6)\n",
    "print('100''200')\n",
    "#(7)\n",
    "print('Hello Python!')\n",
    "#(8)\n",
    "print('Hello', 'Python', '!')\n",
    "#(9)\n",
    "print('Hello'+'Python'+'!')\n",
    "#(10)\n",
    "print('Hello''Python''!')\n",
    "#(11)\n",
    "print('********************')\n",
    "#(12)\n",
    "print('*' * 20)\n"
   ]
  },
  {
   "cell_type": "markdown",
   "id": "a5cc61c0",
   "metadata": {},
   "source": [
    "1.4"
   ]
  },
  {
   "cell_type": "code",
   "execution_count": 13,
   "id": "2142bd7d",
   "metadata": {},
   "outputs": [
    {
     "name": "stdout",
     "output_type": "stream",
     "text": [
      "Heollo Python\n"
     ]
    }
   ],
   "source": [
    "#(!)\n",
    "'''print('Hello Python\") \n",
    " 일어나는 오류 > SyntaxError: EOL while scanning string literal '''\n",
    "print('Heollo Python')"
   ]
  },
  {
   "cell_type": "code",
   "execution_count": 14,
   "id": "22a73d63",
   "metadata": {},
   "outputs": [
    {
     "name": "stdout",
     "output_type": "stream",
     "text": [
      "********************\n"
     ]
    }
   ],
   "source": [
    "#(2)\n",
    "'''print('*' 20) \n",
    " 일어나는 오류 > SyntaxError: invalid syntax'''\n",
    "print('*' * 20)"
   ]
  },
  {
   "cell_type": "code",
   "execution_count": 15,
   "id": "7dd7d49e",
   "metadata": {},
   "outputs": [
    {
     "name": "stdout",
     "output_type": "stream",
     "text": [
      "Life is short learn Python!\n"
     ]
    }
   ],
   "source": [
    "#(3)\n",
    "'''print(Life is short learn Python!) \n",
    " 일어나는 오류 > SyntaxError: invalid syntax'''\n",
    "print('Life is short learn Python!')"
   ]
  },
  {
   "cell_type": "code",
   "execution_count": 18,
   "id": "3398f2b6",
   "metadata": {},
   "outputs": [
    {
     "name": "stdout",
     "output_type": "stream",
     "text": [
      "300\n"
     ]
    }
   ],
   "source": [
    "#(4) 숫자 100과 200의 합 300을 출력하라\n",
    "'''print(100+'200') \n",
    " 일어나는 오류 > TypeError: unsupported operand type(s) for +: 'int' and 'str' '''\n",
    "print(100+200)"
   ]
  },
  {
   "cell_type": "markdown",
   "id": "89c45e9f",
   "metadata": {},
   "source": [
    "1.5"
   ]
  },
  {
   "cell_type": "code",
   "execution_count": 21,
   "id": "a5754aea",
   "metadata": {
    "scrolled": true
   },
   "outputs": [
    {
     "name": "stdout",
     "output_type": "stream",
     "text": [
      "I love Python!!\n",
      "I love Python!!\n",
      "I love Python !!\n",
      "IlovePython!!\n",
      "IlovePython!!\n"
     ]
    }
   ],
   "source": [
    "print(\"I love Python!!\")\n",
    "print('I love Python!!')\n",
    "print('I', 'love', 'Python', \"!!\")\n",
    "print('I''love''Python''!!')\n",
    "print('I' + 'love' + 'Python' + '!!')"
   ]
  },
  {
   "cell_type": "markdown",
   "id": "88042c56",
   "metadata": {},
   "source": [
    "1.6"
   ]
  },
  {
   "cell_type": "code",
   "execution_count": 22,
   "id": "e5da00ab",
   "metadata": {},
   "outputs": [
    {
     "name": "stdout",
     "output_type": "stream",
     "text": [
      "*\n",
      "**\n",
      "***\n",
      "*****\n",
      "*******\n"
     ]
    }
   ],
   "source": [
    "print('*')\n",
    "print('**')\n",
    "print('***')\n",
    "print('*'*5)\n",
    "print('*'*7)"
   ]
  },
  {
   "cell_type": "markdown",
   "id": "c70f112c",
   "metadata": {},
   "source": [
    "1.7"
   ]
  },
  {
   "cell_type": "code",
   "execution_count": 1,
   "id": "5a8e6959",
   "metadata": {},
   "outputs": [],
   "source": [
    "# 1)\n",
    "import turtle\n",
    "t = turtle.Turtle()\n",
    "t.shape(\"turtle\")\n",
    "t.forward(100)\n",
    "t.left(135)\n",
    "t.forward(141.4)\n",
    "t.left(135)\n",
    "t.forward(100)\n",
    "turtle.done()"
   ]
  },
  {
   "cell_type": "code",
   "execution_count": 11,
   "id": "41b3e6ea",
   "metadata": {},
   "outputs": [],
   "source": [
    "# 2)\n",
    "import turtle\n",
    "t = turtle.Turtle()\n",
    "t.shape(\"turtle\")\n",
    "t.forward(100)\n",
    "t.left(120)\n",
    "t.forward(100)\n",
    "t.left(120)\n",
    "t.forward(100)\n",
    "t.right(120)\n",
    "t.forward(100)\n",
    "t.right(120)\n",
    "t.forward(100)\n",
    "turtle.done()"
   ]
  },
  {
   "cell_type": "markdown",
   "id": "d036ecf8",
   "metadata": {},
   "source": [
    "1.8"
   ]
  },
  {
   "cell_type": "code",
   "execution_count": 1,
   "id": "9cc40d0e",
   "metadata": {},
   "outputs": [
    {
     "name": "stdout",
     "output_type": "stream",
     "text": [
      "300\n",
      "509\n",
      "2.0\n",
      "729\n",
      "3.0\n",
      "3\n"
     ]
    }
   ],
   "source": [
    "#(1)\n",
    "print(400-200+100)\n",
    "#(2)\n",
    "print(409+200-100)\n",
    "#(3)\n",
    "print(6*3/9)\n",
    "#(4)\n",
    "print(9**3)\n",
    "#(5)\n",
    "print(9/3)\n",
    "#(6)\n",
    "print(9//3)"
   ]
  },
  {
   "cell_type": "markdown",
   "id": "73f07287",
   "metadata": {},
   "source": [
    "1.9"
   ]
  },
  {
   "cell_type": "code",
   "execution_count": 2,
   "id": "2e012a97",
   "metadata": {},
   "outputs": [
    {
     "name": "stdout",
     "output_type": "stream",
     "text": [
      "55\n"
     ]
    }
   ],
   "source": [
    "#(1)\n",
    "print(1+2+3+4+5+6+7+8+9+10)"
   ]
  },
  {
   "cell_type": "code",
   "execution_count": 4,
   "id": "5c4e2fad",
   "metadata": {},
   "outputs": [
    {
     "name": "stdout",
     "output_type": "stream",
     "text": [
      "31.400000000000002\n"
     ]
    }
   ],
   "source": [
    "#(2)\n",
    "r = 5\n",
    "pi = 3.14\n",
    "C = 2*pi*r #원의 둘레\n",
    "\n",
    "print(C)"
   ]
  },
  {
   "cell_type": "code",
   "execution_count": 6,
   "id": "5aa0debd",
   "metadata": {},
   "outputs": [
    {
     "name": "stdout",
     "output_type": "stream",
     "text": [
      "80\n"
     ]
    }
   ],
   "source": [
    "#(3)\n",
    "l = 20\n",
    "C = 4 * l #둘레\n",
    "\n",
    "print(C)"
   ]
  },
  {
   "cell_type": "code",
   "execution_count": 7,
   "id": "de41ff03",
   "metadata": {},
   "outputs": [
    {
     "name": "stdout",
     "output_type": "stream",
     "text": [
      "400\n"
     ]
    }
   ],
   "source": [
    "#(4)\n",
    "l = 20\n",
    "A = l*l #면적\n",
    "\n",
    "print(A)"
   ]
  },
  {
   "cell_type": "code",
   "execution_count": 8,
   "id": "2d5ceb6c",
   "metadata": {},
   "outputs": [
    {
     "name": "stdout",
     "output_type": "stream",
     "text": [
      "80\n",
      "300\n"
     ]
    }
   ],
   "source": [
    "#(5)\n",
    "a = 10 #높이\n",
    "b = 30 #밑변\n",
    "\n",
    "C = 2*a + 2*b #직사각형의 둘레\n",
    "\n",
    "print(C)\n",
    "#(6)\n",
    "\n",
    "A = a*b #직사각형의 면적\n",
    "\n",
    "print(A)"
   ]
  },
  {
   "cell_type": "markdown",
   "id": "d6f11724",
   "metadata": {},
   "source": [
    "1.10"
   ]
  },
  {
   "cell_type": "code",
   "execution_count": 10,
   "id": "0fc8ac71",
   "metadata": {},
   "outputs": [
    {
     "name": "stdout",
     "output_type": "stream",
     "text": [
      "4! = 24\n",
      "5! = 120\n",
      "6! = 720\n"
     ]
    }
   ],
   "source": [
    "print('4! =', 4*3*2*1)\n",
    "print('5! =', 5*4*3*2*1)\n",
    "print('6! =', 6*5*4*3*2*1)"
   ]
  }
 ],
 "metadata": {
  "kernelspec": {
   "display_name": "Python 3 (ipykernel)",
   "language": "python",
   "name": "python3"
  },
  "language_info": {
   "codemirror_mode": {
    "name": "ipython",
    "version": 3
   },
   "file_extension": ".py",
   "mimetype": "text/x-python",
   "name": "python",
   "nbconvert_exporter": "python",
   "pygments_lexer": "ipython3",
   "version": "3.9.7"
  }
 },
 "nbformat": 4,
 "nbformat_minor": 5
}
