{
 "cells": [
  {
   "cell_type": "markdown",
   "id": "3e461c94",
   "metadata": {},
   "source": [
    "# 4장 심화문제   \n",
    "- 윤주향\n",
    "- 20184089"
   ]
  },
  {
   "cell_type": "markdown",
   "id": "371c2739",
   "metadata": {},
   "source": [
    "# 1.중요사항 정리   \n",
    "- 강의에서 가장 중요하고 생각하는 용어, 개념 등을 세 개 이상 써주세요.   \n",
    "  1) :(콜론) -하위 블록의 시작을 알라는 기호로, 콜론 아래의 줄은 반드시 들여쓰기를 해야만 한다.   \n",
    "  2)블록 - 파이썬에서 문장 앞에 동일한 개수의 공백이 있으면 이들 문장들은 하나의 블록에 속하게 된다.   \n",
    "  3)조건문   \n",
    "  if-else문 - 조건식이 참(True)로 계산되면 if아래에 있는 문장을 실행하고, 만약 거짓(False)이면 else 아래에 있는 문장을 실행한다.\n",
    "\n",
    "\n",
    "# 2. 자기 점검\n",
    "\n",
    "   - 강의 중 어려웠던 점이나, 잘 모르겠는 것들을 써주세요.  \n",
    "   1) 4.5번에서 for문을 이용하여 리스트안에 있는 값을 비교하여 답을 놓는 조건문을 작성하였는데, 그에 대한 결과값을 출력하면 3번이나 반복되어 나오는데, 어디서 오류가 난건지 모르겠습니다.   \n",
    "   \n",
    "\n",
    "# 3. 심화문제 풀기\n",
    "\n",
    "   - 2단원의 심화 문제를 풀어서 제출하세요."
   ]
  },
  {
   "cell_type": "markdown",
   "id": "f5da6f79",
   "metadata": {},
   "source": [
    "# 4.1"
   ]
  },
  {
   "cell_type": "code",
   "execution_count": 46,
   "id": "9efc39c7",
   "metadata": {},
   "outputs": [
    {
     "name": "stdout",
     "output_type": "stream",
     "text": [
      "알파벳을 입력하시오 : i\n",
      "i (은)는 모음입니다.\n",
      "알파벳을 입력하시오 : t\n",
      "t (은)는 자음입니다.\n"
     ]
    }
   ],
   "source": [
    "#1) 모음 출력\n",
    "x1 = ('a','e','i','o','u')\n",
    "s1 = str(input(\"알파벳을 입력하시오 : \"))\n",
    "\n",
    "if s1 in x1 :\n",
    "    print( s1, \"(은)는 모음입니다.\")\n",
    "else : \n",
    "    print( s1, \"(은)는 자음입니다.\")\n",
    "\n",
    "#2) 자음 출력\n",
    "x1 = ('a','e','i','o','u')\n",
    "s1 = str(input(\"알파벳을 입력하시오 : \"))\n",
    "\n",
    "if s1 in x1 :\n",
    "    print( s1, \"(은)는 모음입니다.\")\n",
    "else : \n",
    "    print( s1, \"(은)는 자음입니다.\")"
   ]
  },
  {
   "cell_type": "markdown",
   "id": "4030fae5",
   "metadata": {},
   "source": [
    "# 4.2"
   ]
  },
  {
   "cell_type": "code",
   "execution_count": 27,
   "id": "b26233f8",
   "metadata": {},
   "outputs": [
    {
     "name": "stdout",
     "output_type": "stream",
     "text": [
      "세 정수를 입력하시오 : 9 122 4\n",
      "122 9 4\n",
      "세 정수를 입력하시오 : 9 4 122\n",
      "122 9 4\n"
     ]
    }
   ],
   "source": [
    "#1) 세 정수 입력 1\n",
    "arr = str(input(\"세 정수를 입력하시오 : \"))\n",
    "a = arr.split(' ')\n",
    "x, y, z = int(a[0]), int(a[1]), int(a[2]) #문자열인 x,y,z를 정수형으로 바꿔준다.\n",
    "\n",
    "if (x>y>z) :\n",
    "    print(x, y, z)\n",
    "elif (x>z>y) :\n",
    "    print(x, z, y)\n",
    "elif (y>x>z) :\n",
    "    print(y, x, z)\n",
    "elif (y>z>x) : \n",
    "    print(y, z, x)\n",
    "elif (z>x>y) :\n",
    "    print(z, x, y)\n",
    "else :\n",
    "    print(z, y, x)\n",
    "    \n",
    "#2) 세 정수 입력 2\n",
    "arr = str(input(\"세 정수를 입력하시오 : \"))\n",
    "a = arr.split(' ')\n",
    "x, y, z = int(a[0]), int(a[1]), int(a[2])\n",
    "\n",
    "if (x>y>z) :\n",
    "    print(x, y, z)\n",
    "elif (x>z>y) :\n",
    "    print(x, z, y)\n",
    "elif (y>x>z) :\n",
    "    print(y, x, z)\n",
    "elif (y>z>x) : \n",
    "    print(y, z, x)\n",
    "elif (z>x>y) :\n",
    "    print(z, x, y)\n",
    "else :\n",
    "    print(z, y, x)"
   ]
  },
  {
   "cell_type": "markdown",
   "id": "549fa515",
   "metadata": {},
   "source": [
    "# 4.3"
   ]
  },
  {
   "cell_type": "code",
   "execution_count": 18,
   "id": "a5537b84",
   "metadata": {},
   "outputs": [
    {
     "name": "stdout",
     "output_type": "stream",
     "text": [
      "나이를 입력하시오 : 23\n",
      "Adult\n",
      "나이를 입력하시오 : 3\n",
      "Kid\n"
     ]
    }
   ],
   "source": [
    "#1) Adult 출력\n",
    "a = int(input(\"나이를 입력하시오 : \"))\n",
    "\n",
    "if a>=20 :\n",
    "    print(\"Adult\")\n",
    "elif 10<=a<20 : \n",
    "    print(\"Youth\")\n",
    "else : \n",
    "    print(\"Kid\")\n",
    "\n",
    "#2) Kid 출력\n",
    "a = int(input(\"나이를 입력하시오 : \"))\n",
    "\n",
    "if a>=20 :\n",
    "    print(\"Adult\")\n",
    "elif 10<=a<20 : \n",
    "    print(\"Youth\")\n",
    "else : \n",
    "    print(\"Kid\")"
   ]
  },
  {
   "cell_type": "markdown",
   "id": "b61f0716",
   "metadata": {},
   "source": [
    "# 4.4"
   ]
  },
  {
   "cell_type": "code",
   "execution_count": 19,
   "id": "824b3b5b",
   "metadata": {},
   "outputs": [
    {
     "name": "stdout",
     "output_type": "stream",
     "text": [
      "정수를 입력하시오 : 15\n",
      "15 는(은) 2(으)로 나누어지지 않습니다.\n",
      "15 는(은) 3(으)로 나누어집니다.\n",
      "15 는(은) 2와 3 모두로 나누어지지 않습니다.\n"
     ]
    }
   ],
   "source": [
    "a =  int(input(\"정수를 입력하시오 : \"))\n",
    "\n",
    "if a%2 == 0 :\n",
    "    print(a, \"는(은) 2(으)로 나누어집니다.\")\n",
    "    if a%3 == 0 : \n",
    "        print(a, \"는(은) 3(으)로 나누어집니다.\")\n",
    "        print(a, \"는(은) 2와 3 모두로 나누어집니다.\")\n",
    "    else : \n",
    "        print(a, \"는(은) 3으)로 나누어지지 않습니다.\")\n",
    "        print(a, \"는(은) 2와 3 모두로 나누어지지 않습니다.\")\n",
    "else : \n",
    "    print(a, \"는(은) 2(으)로 나누어지지 않습니다.\")\n",
    "    if a%3 == 0 :\n",
    "        print(a, \"는(은) 3(으)로 나누어집니다.\")\n",
    "        print(a, \"는(은) 2와 3 모두로 나누어지지 않습니다.\")\n",
    "    else : \n",
    "        print(a, \"는(은) 3(으)로 나누어지지 않습니다.\")\n",
    "        print(a, \"는(은) 2와 3 모두로 나누어지지 않습니다.\")     \n"
   ]
  },
  {
   "cell_type": "markdown",
   "id": "6e70e2aa",
   "metadata": {},
   "source": [
    "# 4.5"
   ]
  },
  {
   "cell_type": "code",
   "execution_count": 16,
   "id": "e83ca9e4",
   "metadata": {},
   "outputs": [
    {
     "name": "stdout",
     "output_type": "stream",
     "text": [
      "새 복권번호를 입력하시오 : 1 5 7\n",
      "[1, 5, 7] [3, 6, 7]\n",
      "상금 1만원\n",
      "상금 1만원\n",
      "상금 1만원\n"
     ]
    }
   ],
   "source": [
    "from random import sample\n",
    "arr = str(input(\"새 복권번호를 입력하시오 : \"))\n",
    "a = arr.split(' ')\n",
    "int_a = list(map(int, a)) #문자열 리스트를 정수형으로 바꾸어준다.\n",
    "\n",
    "b = sample(range(0,9), 3)\n",
    "\n",
    "#리스트에 있는 값들을 오름차순으로 바꿔준다.\n",
    "x = sorted(int_a)\n",
    "y = sorted(b)\n",
    "\n",
    "#print(x, y)\n",
    "\n",
    "for i in x :\n",
    "    for j in y :\n",
    "        if x == y : #다 똑같을 때\n",
    "            print('상금 1억원')\n",
    "            break\n",
    "        elif ((x[0]!=y[0]) and (x[1]!=y[1]) and (x[2]!=y[2])) : #다 다를 때\n",
    "            print('다음 기회에...')\n",
    "            break\n",
    "        elif ((x[0]==y[0]) and (x[1]!=y[1]) and (x[2]!=y[2])) : #처음 하나만 같을 때\n",
    "            print('상금 1만원')\n",
    "            break\n",
    "        elif ((x[1]==y[1]) and (x[0]!=y[0]) and (x[2]!=y[2])) : #두번째만 같을 때\n",
    "            print('상금 1만원')\n",
    "            break\n",
    "        elif ((x[2]==y[2]) and (x[1]!=y[1]) and (x[0]!=y[0])) : #마지막 하나만 같을 때\n",
    "            print('상금 1만원')\n",
    "            break\n",
    "        else :\n",
    "            print('상금 1천만원')\n",
    "            break"
   ]
  },
  {
   "cell_type": "markdown",
   "id": "3de6c474",
   "metadata": {},
   "source": [
    "# 4.6"
   ]
  },
  {
   "cell_type": "code",
   "execution_count": 28,
   "id": "e023a098",
   "metadata": {},
   "outputs": [
    {
     "name": "stdout",
     "output_type": "stream",
     "text": [
      "우리식당에 오신 것을 환영합니다. 메뉴는 다음과 같습니다. \n",
      " - 햄버거(입력 b) \n",
      " - 치킨(입력 c) \n",
      " - 피자(입력 p) \n",
      "메뉴를 선택하세요(알파벳 b, c, p 입력): c\n",
      "치킨을 선택하였습니다.\n"
     ]
    }
   ],
   "source": [
    "me = str(input(\"우리식당에 오신 것을 환영합니다. 메뉴는 다음과 같습니다. \\n - 햄버거(입력 b) \\n - 치킨(입력 c) \\n - 피자(입력 p) \\n메뉴를 선택하세요(알파벳 b, c, p 입력): \"))\n",
    "\n",
    "if me == 'b' : \n",
    "    print(\"햄버거를 선택하였습니다.\")\n",
    "elif me == 'c' : \n",
    "    print(\"치킨을 선택하였습니다.\")\n",
    "elif me == 'p' :\n",
    "    print(\"피자를 선택하였습니다.\")\n",
    "else :\n",
    "    print(\"선택한 메뉴가 없습니다.\")"
   ]
  },
  {
   "cell_type": "markdown",
   "id": "7eb9f4a7",
   "metadata": {},
   "source": [
    "# 4.7"
   ]
  },
  {
   "cell_type": "code",
   "execution_count": 9,
   "id": "36904b6b",
   "metadata": {},
   "outputs": [
    {
     "name": "stdout",
     "output_type": "stream",
     "text": [
      "98 + 78 =176\n",
      "잘했어요!!\n"
     ]
    }
   ],
   "source": [
    "import random\n",
    "\n",
    "a = random.randint(1,100)\n",
    "b = random.randint(1,100)\n",
    "\n",
    "x = int(input(f'{a} + {b} ='))\n",
    "\n",
    "if (x == a+b) :\n",
    "    print(\"잘했어요!!\")\n",
    "else :\n",
    "    print(\"정답은 \",a+b, \"입니다.\")\n"
   ]
  },
  {
   "cell_type": "markdown",
   "id": "e9dd0547",
   "metadata": {},
   "source": [
    "# 4.8"
   ]
  },
  {
   "cell_type": "code",
   "execution_count": 32,
   "id": "30a9beae",
   "metadata": {},
   "outputs": [
    {
     "name": "stdout",
     "output_type": "stream",
     "text": [
      "1)덧셈 2)뺄셈 3)곱셈 4)나눗셈 \n",
      "어떤 연산을 원하는지 번호를 입력하세요 : 4\n",
      "연산을 원하는 숫자 두개를 입력하세요 : 3 4\n",
      "3 / 4 = 0.75\n"
     ]
    }
   ],
   "source": [
    "import random\n",
    "\n",
    "a = int(input(\"1)덧셈 2)뺄셈 3)곱셈 4)나눗셈 \\n어떤 연산을 원하는지 번호를 입력하세요 : \"))\n",
    "arr = str(input(\"연산을 원하는 숫자 두개를 입력하세요 : \"))\n",
    "b = arr.split(' ')\n",
    "x, y = int(b[0]), int(b[1])\n",
    "\n",
    "if a == 1 :\n",
    "    print(x, '+', y, '=', x+y)\n",
    "elif a == 2 :\n",
    "    print(x, '-', y, '=', x-y)\n",
    "elif a == 3 :\n",
    "    print(x, '*', y, '=', x*y)\n",
    "elif a == 4 : \n",
    "    print(x, '/', y, '=', x/y)\n",
    "else :\n",
    "    print(\"잘못 입력하였습니다.\")"
   ]
  },
  {
   "cell_type": "markdown",
   "id": "29b4c2c1",
   "metadata": {},
   "source": [
    "# 4.9"
   ]
  },
  {
   "cell_type": "code",
   "execution_count": 3,
   "id": "9d349b4e",
   "metadata": {},
   "outputs": [],
   "source": [
    "import turtle\n",
    "t = turtle.Turtle()\n",
    "t.shape(\"turtle\")\n",
    "\n",
    "#값 입력 받기(문자열 -> 상수)\n",
    "s1 = turtle.textinput(\"\",\"왼쪽 하단 모서리 좌표 x, y : \")\n",
    "n1 = s1.split(' ')\n",
    "x = list(map(int, n1))\n",
    "s2 = turtle.textinput(\"\",\"오른쪽 상단 모서리 좌표 x, y : \")\n",
    "n2 = s2.split(' ')\n",
    "y = list(map(int, n2))\n",
    "s3 = turtle.textinput(\"\",\"점의 좌표 x, y : \")\n",
    "n3 = s3.split(' ')\n",
    "z = list(map(int, n3))\n",
    "\n",
    "\n",
    "#거북이로 좌표가지고 사각형그리기\n",
    "t.penup()\n",
    "t.goto(x[0], x[1])\n",
    "t.pendown()\n",
    "t.goto(y[0], x[1])\n",
    "t.goto(y[0], y[1])\n",
    "t.goto(x[0], y[1])\n",
    "t.goto(x[0], x[1])\n",
    "#입력좌표로 이동\n",
    "t.penup()\n",
    "t.goto(z[0], z[1])\n",
    "t. pendown()\n",
    "\n",
    "#사각형 안에 좌표가 있을 때와 없을 때\n",
    "if (x[0] <= z[0] <= y[0] and x[1] <= z[1] <= y[1]) :\n",
    "    #좌표 점 그리기\n",
    "    t.color(\"black\")\n",
    "    t.begin_fill()\n",
    "    t.circle(10)\n",
    "    t.end_fill()\n",
    "    #출력\n",
    "    t.write(\"점은 사각형의 내부에 있습니다.\")\n",
    "else :\n",
    "    #좌표 점 그리기\n",
    "    t.color(\"black\")\n",
    "    t.begin_fill()\n",
    "    t.circle(10)\n",
    "    #출력\n",
    "    t.end_fill()\n",
    "    t.write(\"점은 사각형의 외부에 있습니다.\")\n",
    "\n",
    "\n",
    "turtle.done()"
   ]
  }
 ],
 "metadata": {
  "kernelspec": {
   "display_name": "Python 3 (ipykernel)",
   "language": "python",
   "name": "python3"
  },
  "language_info": {
   "codemirror_mode": {
    "name": "ipython",
    "version": 3
   },
   "file_extension": ".py",
   "mimetype": "text/x-python",
   "name": "python",
   "nbconvert_exporter": "python",
   "pygments_lexer": "ipython3",
   "version": "3.9.7"
  }
 },
 "nbformat": 4,
 "nbformat_minor": 5
}
