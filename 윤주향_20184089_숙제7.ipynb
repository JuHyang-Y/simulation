{
 "cells": [
  {
   "cell_type": "markdown",
   "id": "bdacd151",
   "metadata": {},
   "source": [
    "# 7장 심화문제\n",
    "- 윤주향\n",
    "- 201841089"
   ]
  },
  {
   "cell_type": "markdown",
   "id": "607247d0",
   "metadata": {},
   "source": [
    "# 1.중요사항 정리   \n",
    "- 강의에서 가장 중요하고 생각하는 용어, 개념 등을 세 개 이상 써주세요.   \n",
    "   1) 참조 : 같은 변수의 이름이 실제 존재하는 메모리 상의 객체를 가리키는 것.   \n",
    "   2) eval()함수 : 문자열로 이루어진 이 문장을 파이썬 수식으로 평가하여 연산을 수행하는 것이 가능하다.   \n",
    "   3) 리스트 함축  : 축약 표현을 사용하여 간결하고도 효율적인 리스트를 생성할 수 있다..   \n",
    "      \n",
    "\n",
    "\n",
    "# 2. 자기 점검\n",
    "\n",
    "   - 강의 중 어려웠던 점이나, 잘 모르겠는 것들을 써주세요.  \n",
    "         마지막 7.9번에서 overlap()함수를 구현하여 만들어야 하는 문제가 있는데, 어떻게 겹치는 부분만 제거해서 프린트를 할 수 있는 지 잘 모르겠습니다.\n",
    "   \n",
    "\n",
    "# 3. 심화문제 풀기\n",
    "\n",
    "   - 7단원의 심화 문제를 풀어서 제출하세요."
   ]
  },
  {
   "cell_type": "markdown",
   "id": "dad9141f",
   "metadata": {},
   "source": [
    "# 7.1"
   ]
  },
  {
   "cell_type": "code",
   "execution_count": 3,
   "id": "897e54b8",
   "metadata": {},
   "outputs": [],
   "source": [
    "num_list = [100, 200, 300, 400, 500, 600, 700, 800]\n",
    "high = 6\n",
    "low = 3"
   ]
  },
  {
   "cell_type": "code",
   "execution_count": 7,
   "id": "4da41400",
   "metadata": {},
   "outputs": [
    {
     "data": {
      "text/plain": [
       "700"
      ]
     },
     "execution_count": 7,
     "metadata": {},
     "output_type": "execute_result"
    }
   ],
   "source": [
    "#(1)\n",
    "num_list[high]"
   ]
  },
  {
   "cell_type": "code",
   "execution_count": 8,
   "id": "870616bf",
   "metadata": {},
   "outputs": [
    {
     "data": {
      "text/plain": [
       "500"
      ]
     },
     "execution_count": 8,
     "metadata": {},
     "output_type": "execute_result"
    }
   ],
   "source": [
    "#(2)\n",
    "num_list[high - 2]"
   ]
  },
  {
   "cell_type": "code",
   "execution_count": 9,
   "id": "d82eaa46",
   "metadata": {},
   "outputs": [
    {
     "data": {
      "text/plain": [
       "400"
      ]
     },
     "execution_count": 9,
     "metadata": {},
     "output_type": "execute_result"
    }
   ],
   "source": [
    "#(3)\n",
    "num_list[high - low]"
   ]
  },
  {
   "cell_type": "code",
   "execution_count": 10,
   "id": "b7bcee0d",
   "metadata": {},
   "outputs": [
    {
     "data": {
      "text/plain": [
       "600"
      ]
     },
     "execution_count": 10,
     "metadata": {},
     "output_type": "execute_result"
    }
   ],
   "source": [
    "#(4)\n",
    "num_list[low - high]"
   ]
  },
  {
   "cell_type": "code",
   "execution_count": 11,
   "id": "66dbbe86",
   "metadata": {},
   "outputs": [
    {
     "data": {
      "text/plain": [
       "800"
      ]
     },
     "execution_count": 11,
     "metadata": {},
     "output_type": "execute_result"
    }
   ],
   "source": [
    "#(5)\n",
    "num_list[-1]"
   ]
  },
  {
   "cell_type": "code",
   "execution_count": 12,
   "id": "ecf2b039",
   "metadata": {},
   "outputs": [
    {
     "data": {
      "text/plain": [
       "600"
      ]
     },
     "execution_count": 12,
     "metadata": {},
     "output_type": "execute_result"
    }
   ],
   "source": [
    "#(6)\n",
    "num_list[-low]"
   ]
  },
  {
   "cell_type": "code",
   "execution_count": 14,
   "id": "4ef271d3",
   "metadata": {},
   "outputs": [
    {
     "data": {
      "text/plain": [
       "700"
      ]
     },
     "execution_count": 14,
     "metadata": {},
     "output_type": "execute_result"
    }
   ],
   "source": [
    "#(7)\n",
    "num_list[2*3]"
   ]
  },
  {
   "cell_type": "code",
   "execution_count": 15,
   "id": "d91d49c6",
   "metadata": {},
   "outputs": [
    {
     "data": {
      "text/plain": [
       "900"
      ]
     },
     "execution_count": 15,
     "metadata": {},
     "output_type": "execute_result"
    }
   ],
   "source": [
    "#(8)\n",
    "num_list[2]*3"
   ]
  },
  {
   "cell_type": "code",
   "execution_count": 16,
   "id": "2e05f798",
   "metadata": {},
   "outputs": [
    {
     "data": {
      "text/plain": [
       "200"
      ]
     },
     "execution_count": 16,
     "metadata": {},
     "output_type": "execute_result"
    }
   ],
   "source": [
    "#(9)\n",
    "num_list[5 % 4]"
   ]
  },
  {
   "cell_type": "code",
   "execution_count": 17,
   "id": "2ac56cec",
   "metadata": {},
   "outputs": [
    {
     "data": {
      "text/plain": [
       "8"
      ]
     },
     "execution_count": 17,
     "metadata": {},
     "output_type": "execute_result"
    }
   ],
   "source": [
    "#(10)\n",
    "len(num_list)"
   ]
  },
  {
   "cell_type": "code",
   "execution_count": 22,
   "id": "d02bdc04",
   "metadata": {},
   "outputs": [
    {
     "data": {
      "text/plain": [
       "100"
      ]
     },
     "execution_count": 22,
     "metadata": {},
     "output_type": "execute_result"
    }
   ],
   "source": [
    "#(11)\n",
    "min(num_list)"
   ]
  },
  {
   "cell_type": "code",
   "execution_count": 23,
   "id": "818bacab",
   "metadata": {},
   "outputs": [
    {
     "data": {
      "text/plain": [
       "800"
      ]
     },
     "execution_count": 23,
     "metadata": {},
     "output_type": "execute_result"
    }
   ],
   "source": [
    "#(12)\n",
    "max(num_list)"
   ]
  },
  {
   "cell_type": "code",
   "execution_count": 24,
   "id": "c24bb904",
   "metadata": {},
   "outputs": [
    {
     "data": {
      "text/plain": [
       "[100, 200, 300]"
      ]
     },
     "execution_count": 24,
     "metadata": {},
     "output_type": "execute_result"
    }
   ],
   "source": [
    "#(13)\n",
    "num_list[:3]"
   ]
  },
  {
   "cell_type": "code",
   "execution_count": 25,
   "id": "186848b8",
   "metadata": {},
   "outputs": [
    {
     "data": {
      "text/plain": [
       "[200, 300, 400, 500]"
      ]
     },
     "execution_count": 25,
     "metadata": {},
     "output_type": "execute_result"
    }
   ],
   "source": [
    "#(14)\n",
    "num_list[1:5]"
   ]
  },
  {
   "cell_type": "code",
   "execution_count": 26,
   "id": "853774e5",
   "metadata": {},
   "outputs": [
    {
     "data": {
      "text/plain": [
       "[800, 700, 600, 500]"
      ]
     },
     "execution_count": 26,
     "metadata": {},
     "output_type": "execute_result"
    }
   ],
   "source": [
    "#(15)\n",
    "num_list[-1:-5:-1]"
   ]
  },
  {
   "cell_type": "code",
   "execution_count": 20,
   "id": "54d3143d",
   "metadata": {},
   "outputs": [
    {
     "data": {
      "text/plain": [
       "[400, 500, 600, 700]"
      ]
     },
     "execution_count": 20,
     "metadata": {},
     "output_type": "execute_result"
    }
   ],
   "source": [
    "#(16)\n",
    "num_list[-5:-1:1]"
   ]
  },
  {
   "cell_type": "markdown",
   "id": "22dfd01f",
   "metadata": {},
   "source": [
    "# 7.2"
   ]
  },
  {
   "cell_type": "code",
   "execution_count": 36,
   "id": "475dc2d5",
   "metadata": {},
   "outputs": [],
   "source": [
    "list1 = [3,5,7]\n",
    "list2 = [2,3,4,5,6]"
   ]
  },
  {
   "cell_type": "code",
   "execution_count": 42,
   "id": "1790bae7",
   "metadata": {},
   "outputs": [
    {
     "name": "stdout",
     "output_type": "stream",
     "text": [
      "3 * 2 = 6\n",
      "3 * 3 = 9\n",
      "3 * 4 = 12\n",
      "3 * 5 = 15\n",
      "3 * 6 = 18\n",
      "5 * 2 = 10\n",
      "5 * 3 = 15\n",
      "5 * 4 = 20\n",
      "5 * 5 = 25\n",
      "5 * 6 = 30\n",
      "7 * 2 = 14\n",
      "7 * 3 = 21\n",
      "7 * 4 = 28\n",
      "7 * 5 = 35\n",
      "7 * 6 = 42\n"
     ]
    }
   ],
   "source": [
    "for i in list1 :\n",
    "    for j in list2 :\n",
    "        print('{0} * {1} = {2}'.format(i, j, i*j))"
   ]
  },
  {
   "cell_type": "markdown",
   "id": "b9b7f280",
   "metadata": {},
   "source": [
    "# 7.3"
   ]
  },
  {
   "cell_type": "code",
   "execution_count": 44,
   "id": "2eccc768",
   "metadata": {},
   "outputs": [],
   "source": [
    "list1 = ['I like','I love']\n",
    "list2 = ['pancakes.', 'kiwi juice.', 'espresso.']"
   ]
  },
  {
   "cell_type": "code",
   "execution_count": 47,
   "id": "8050082b",
   "metadata": {},
   "outputs": [
    {
     "name": "stdout",
     "output_type": "stream",
     "text": [
      "I like pancakes.\n",
      "I like kiwi juice.\n",
      "I like espresso.\n",
      "I love pancakes.\n",
      "I love kiwi juice.\n",
      "I love espresso.\n"
     ]
    }
   ],
   "source": [
    "for i in list1 :\n",
    "    for j in list2 :\n",
    "        print(\"{0} {1}\".format(i, j))"
   ]
  },
  {
   "cell_type": "markdown",
   "id": "cab5a74c",
   "metadata": {},
   "source": [
    "# 7.4"
   ]
  },
  {
   "cell_type": "code",
   "execution_count": 53,
   "id": "409e9560",
   "metadata": {},
   "outputs": [
    {
     "data": {
      "text/plain": [
       "[10, 20, 30, 40, 50]"
      ]
     },
     "execution_count": 53,
     "metadata": {},
     "output_type": "execute_result"
    }
   ],
   "source": [
    "#1) t = (10,20,30,40)\n",
    "t = [10, 20, 30, 40]\n",
    "t.append(50)\n",
    "t"
   ]
  },
  {
   "cell_type": "code",
   "execution_count": 54,
   "id": "dfe92507",
   "metadata": {},
   "outputs": [
    {
     "data": {
      "text/plain": [
       "[10, 20, 30]"
      ]
     },
     "execution_count": 54,
     "metadata": {},
     "output_type": "execute_result"
    }
   ],
   "source": [
    "#2) t=(10,20,30,40)\n",
    "t = [10,20,30,40]\n",
    "t.remove(40)\n",
    "t"
   ]
  },
  {
   "cell_type": "code",
   "execution_count": 56,
   "id": "a3e2384b",
   "metadata": {},
   "outputs": [
    {
     "data": {
      "text/plain": [
       "[0, 20, 30, 40]"
      ]
     },
     "execution_count": 56,
     "metadata": {},
     "output_type": "execute_result"
    }
   ],
   "source": [
    "#3) t=(10,20,30,40)\n",
    "t = [10,20,30,40]\n",
    "t[0] = 0\n",
    "t"
   ]
  },
  {
   "cell_type": "markdown",
   "id": "dd9b806d",
   "metadata": {},
   "source": [
    "### 1, 2 , 3번에서 오류가 난 이유는 문제에 제시된 t가 '튜플'이기 때문이다.\n",
    "### 튜플을 불변속성이기 때문에 append()나 remove() 등을 사용하여 요소를 변경할 수 없다."
   ]
  },
  {
   "cell_type": "markdown",
   "id": "b497f836",
   "metadata": {},
   "source": [
    "# 7.5"
   ]
  },
  {
   "cell_type": "code",
   "execution_count": 15,
   "id": "88d553f9",
   "metadata": {},
   "outputs": [
    {
     "name": "stdout",
     "output_type": "stream",
     "text": [
      "['A1', 'A2', 'B1', 'B2', 'C1', 'C2']\n"
     ]
    }
   ],
   "source": [
    "area = ('A','B','C')\n",
    "num = ('1','2')\n",
    "\n",
    "D = [i+j for i in area for j in num]\n",
    "\n",
    "print(D)"
   ]
  },
  {
   "cell_type": "markdown",
   "id": "b0ce20bd",
   "metadata": {},
   "source": [
    "# 7.6"
   ]
  },
  {
   "cell_type": "code",
   "execution_count": 29,
   "id": "ae3be68e",
   "metadata": {},
   "outputs": [
    {
     "name": "stdout",
     "output_type": "stream",
     "text": [
      "문자열을 입력하세요 : python\n"
     ]
    }
   ],
   "source": [
    "s = []\n",
    "s = input(\"문자열을 입력하세요 : \")"
   ]
  },
  {
   "cell_type": "code",
   "execution_count": 30,
   "id": "fd5280f9",
   "metadata": {},
   "outputs": [
    {
     "name": "stdout",
     "output_type": "stream",
     "text": [
      "p\n",
      "py\n",
      "pyt\n",
      "pyth\n",
      "pytho\n",
      "python\n",
      "pytho\n",
      "pyth\n",
      "pyt\n",
      "py\n",
      "p\n"
     ]
    }
   ],
   "source": [
    "print(s[0:1])\n",
    "print(s[0:2])\n",
    "print(s[0:3])\n",
    "print(s[0:4])\n",
    "print(s[0:5])\n",
    "print(s[0:])\n",
    "print(s[0:5])\n",
    "print(s[0:4])\n",
    "print(s[0:3])\n",
    "print(s[0:2])\n",
    "print(s[0:1])"
   ]
  },
  {
   "cell_type": "code",
   "execution_count": 41,
   "id": "3aff17cc",
   "metadata": {},
   "outputs": [
    {
     "name": "stdout",
     "output_type": "stream",
     "text": [
      "p\n",
      "py\n",
      "pyt\n",
      "pyth\n",
      "pytho\n",
      "python\n",
      "pytho\n",
      "pyth\n",
      "pyt\n",
      "py\n",
      "p\n"
     ]
    }
   ],
   "source": [
    "for i in range(1,7) : \n",
    "    print(s[0:i])\n",
    "for j in range(5,0,-1) : \n",
    "    print(s[0:j])"
   ]
  },
  {
   "cell_type": "markdown",
   "id": "54baf3a7",
   "metadata": {},
   "source": [
    "# 7.7"
   ]
  },
  {
   "cell_type": "code",
   "execution_count": 45,
   "id": "cd16e2a4",
   "metadata": {},
   "outputs": [],
   "source": [
    "fruit_list = ['banana','orange','kiwi','apple', 'melon']"
   ]
  },
  {
   "cell_type": "code",
   "execution_count": 118,
   "id": "8ef52421",
   "metadata": {},
   "outputs": [
    {
     "name": "stdout",
     "output_type": "stream",
     "text": [
      "가장 길이가 긴 문자열 : banana, orange\n",
      "fruit_list =  ['kiwi', 'apple', 'melon']\n"
     ]
    }
   ],
   "source": [
    "# 1)\n",
    "b = [len(i) for i in fruit_list] #fruit_list에 있는 요소들의 길이를 가지고 b라는 리스트를 만든다.\n",
    "\n",
    "c = [] #c 라는 빈 배열을 만들고,\n",
    "for i in fruit_list : \n",
    "    if len(i)<max(b) : \n",
    "        c.append(i) #len(i)이 max(b)보다 작은 것만 c리스트에 추가합니다.\n",
    "        \n",
    "print(\"가장 길이가 긴 문자열 : banana, orange\")#길이가 긴 문자열만 출력하는 방법을 모르겠어서 그냥 적었다.\n",
    "print(\"fruit_list = \", c)"
   ]
  },
  {
   "cell_type": "code",
   "execution_count": 46,
   "id": "e0d8d22c",
   "metadata": {},
   "outputs": [
    {
     "name": "stdout",
     "output_type": "stream",
     "text": [
      "banana : 문자열의 길이  6\n",
      "orange : 문자열의 길이  6\n",
      "kiwi : 문자열의 길이  4\n",
      "apple : 문자열의 길이  5\n",
      "melon : 문자열의 길이  5\n"
     ]
    }
   ],
   "source": [
    "# 2) remove쓰기 전에 먼저 실행함\n",
    "f = fruit_list\n",
    "print(\"banana : 문자열의 길이 \",len(f[0]))\n",
    "print(\"orange : 문자열의 길이 \",len(f[1]))\n",
    "print(\"kiwi : 문자열의 길이 \",len(f[2]))\n",
    "print(\"apple : 문자열의 길이 \",len(f[3]))\n",
    "print(\"melon : 문자열의 길이 \",len(f[4]))"
   ]
  },
  {
   "cell_type": "code",
   "execution_count": 50,
   "id": "b8b60216",
   "metadata": {},
   "outputs": [
    {
     "name": "stdout",
     "output_type": "stream",
     "text": [
      "banana : 문자열의 길이 6\n",
      "orange : 문자열의 길이 6\n",
      "kiwi : 문자열의 길이 4\n",
      "apple : 문자열의 길이 5\n",
      "melon : 문자열의 길이 5\n"
     ]
    }
   ],
   "source": [
    "for i in range (0,5) : \n",
    "    print(\"{0} : 문자열의 길이 {1}\".format(f[i],len(f[i])))"
   ]
  },
  {
   "cell_type": "markdown",
   "id": "4051c1b5",
   "metadata": {},
   "source": [
    "# 7.8"
   ]
  },
  {
   "cell_type": "code",
   "execution_count": 8,
   "id": "2019248a",
   "metadata": {},
   "outputs": [
    {
     "name": "stdout",
     "output_type": "stream",
     "text": [
      "n을 입력하시오 : 5\n",
      "   1   2   3   4   5\n",
      "   6   7   8   9  10\n",
      "  11  12  13  14  15\n",
      "  16  17  18  19  20\n",
      "  21  22  23  24  25\n"
     ]
    }
   ],
   "source": [
    "n = int(input(\"n을 입력하시오 : \"))\n",
    "slist = list(range(1, n*n+1))\n",
    "\n",
    "for i in range(n) : \n",
    "    if i%2==0 :\n",
    "        slist[i*n:(i+1)*n]\n",
    "    else :\n",
    "        t = slist[i*n:(i+1)*n]\n",
    "        t.reverse()\n",
    "k=0\n",
    "for i in slist : \n",
    "    k+=1\n",
    "    print('{:4d}'.format(i), end = '')\n",
    "    if k % n == 0 :\n",
    "        print()"
   ]
  },
  {
   "cell_type": "markdown",
   "id": "bb4c44ef",
   "metadata": {},
   "source": [
    "# 7.9"
   ]
  },
  {
   "cell_type": "code",
   "execution_count": 42,
   "id": "8ba9506e",
   "metadata": {},
   "outputs": [],
   "source": [
    "def Overlap(A, B) :  \n",
    "        A.remove(B[:])#A에서 B의 원소들을 제거한다.\n",
    "        C = []\n",
    "        C = print(A + B , end = '')"
   ]
  },
  {
   "cell_type": "code",
   "execution_count": 43,
   "id": "24ecf14e",
   "metadata": {},
   "outputs": [
    {
     "name": "stdout",
     "output_type": "stream",
     "text": [
      "문자열 A를 입력하시오 : commu boxok deter waycom ttttt\n",
      "문자열 B를 입력하시오 : mummy xbox detery ycomget ttttt\n"
     ]
    },
    {
     "ename": "ValueError",
     "evalue": "list.remove(x): x not in list",
     "output_type": "error",
     "traceback": [
      "\u001b[1;31m---------------------------------------------------------------------------\u001b[0m",
      "\u001b[1;31mValueError\u001b[0m                                Traceback (most recent call last)",
      "\u001b[1;32m~\\AppData\\Local\\Temp/ipykernel_181804/1606973180.py\u001b[0m in \u001b[0;36m<module>\u001b[1;34m\u001b[0m\n\u001b[0;32m      4\u001b[0m \u001b[0mB\u001b[0m \u001b[1;33m=\u001b[0m \u001b[0mb\u001b[0m\u001b[1;33m.\u001b[0m\u001b[0msplit\u001b[0m\u001b[1;33m(\u001b[0m\u001b[1;34m' '\u001b[0m\u001b[1;33m)\u001b[0m\u001b[1;33m\u001b[0m\u001b[1;33m\u001b[0m\u001b[0m\n\u001b[0;32m      5\u001b[0m \u001b[1;33m\u001b[0m\u001b[0m\n\u001b[1;32m----> 6\u001b[1;33m \u001b[0mprint\u001b[0m\u001b[1;33m(\u001b[0m\u001b[0mOverlap\u001b[0m\u001b[1;33m(\u001b[0m\u001b[0mA\u001b[0m\u001b[1;33m,\u001b[0m\u001b[0mB\u001b[0m\u001b[1;33m)\u001b[0m\u001b[1;33m)\u001b[0m\u001b[1;33m\u001b[0m\u001b[1;33m\u001b[0m\u001b[0m\n\u001b[0m",
      "\u001b[1;32m~\\AppData\\Local\\Temp/ipykernel_181804/4086049377.py\u001b[0m in \u001b[0;36mOverlap\u001b[1;34m(A, B)\u001b[0m\n\u001b[0;32m      1\u001b[0m \u001b[1;32mdef\u001b[0m \u001b[0mOverlap\u001b[0m\u001b[1;33m(\u001b[0m\u001b[0mA\u001b[0m\u001b[1;33m,\u001b[0m \u001b[0mB\u001b[0m\u001b[1;33m)\u001b[0m \u001b[1;33m:\u001b[0m\u001b[1;33m\u001b[0m\u001b[1;33m\u001b[0m\u001b[0m\n\u001b[1;32m----> 2\u001b[1;33m         \u001b[0mA\u001b[0m\u001b[1;33m.\u001b[0m\u001b[0mremove\u001b[0m\u001b[1;33m(\u001b[0m\u001b[0mB\u001b[0m\u001b[1;33m[\u001b[0m\u001b[1;33m:\u001b[0m\u001b[1;33m]\u001b[0m\u001b[1;33m)\u001b[0m\u001b[1;33m\u001b[0m\u001b[1;33m\u001b[0m\u001b[0m\n\u001b[0m\u001b[0;32m      3\u001b[0m         \u001b[0mC\u001b[0m \u001b[1;33m=\u001b[0m \u001b[1;33m[\u001b[0m\u001b[1;33m]\u001b[0m\u001b[1;33m\u001b[0m\u001b[1;33m\u001b[0m\u001b[0m\n\u001b[0;32m      4\u001b[0m         \u001b[0mC\u001b[0m \u001b[1;33m=\u001b[0m \u001b[0mprint\u001b[0m\u001b[1;33m(\u001b[0m\u001b[0mA\u001b[0m \u001b[1;33m+\u001b[0m \u001b[0mB\u001b[0m \u001b[1;33m,\u001b[0m \u001b[0mend\u001b[0m \u001b[1;33m=\u001b[0m \u001b[1;34m''\u001b[0m\u001b[1;33m)\u001b[0m\u001b[1;33m\u001b[0m\u001b[1;33m\u001b[0m\u001b[0m\n",
      "\u001b[1;31mValueError\u001b[0m: list.remove(x): x not in list"
     ]
    }
   ],
   "source": [
    "a = input(\"문자열 A를 입력하시오 : \") # commu boxok deter waycom ttttt 입력\n",
    "A = a.split(' ')\n",
    "b = input(\"문자열 B를 입력하시오 : \") # mummy xbox detery ycomget ttttt 입력\n",
    "B = b.split(' ')\n",
    "\n",
    "print(Overlap(A,B))"
   ]
  }
 ],
 "metadata": {
  "kernelspec": {
   "display_name": "Python 3 (ipykernel)",
   "language": "python",
   "name": "python3"
  },
  "language_info": {
   "codemirror_mode": {
    "name": "ipython",
    "version": 3
   },
   "file_extension": ".py",
   "mimetype": "text/x-python",
   "name": "python",
   "nbconvert_exporter": "python",
   "pygments_lexer": "ipython3",
   "version": "3.9.7"
  }
 },
 "nbformat": 4,
 "nbformat_minor": 5
}
