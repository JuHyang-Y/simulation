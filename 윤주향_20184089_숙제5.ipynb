{
 "cells": [
  {
   "cell_type": "markdown",
   "id": "b057e84e",
   "metadata": {},
   "source": [
    "# 5장 심화문제\n",
    "- 윤주향\n",
    "- 201841089"
   ]
  },
  {
   "cell_type": "markdown",
   "id": "73efc0a4",
   "metadata": {},
   "source": [
    "# 1.중요사항 정리   \n",
    "- 강의에서 가장 중요하고 생각하는 용어, 개념 등을 세 개 이상 써주세요.   \n",
    "1) 반복의 종류   \n",
    "    - 횟수 제어 반복(for 문) : 보통 횟수를 정해놓고 반복한다.   \n",
    "    - 조건 제어 반복(while문) : 특정한 조건이 만족되면 계속 반복한다.   \n",
    "    \n",
    "  2) break : 루프를 강제적을 빠져나올 때 사용하는 문장이다.   \n",
    "  3) format()메소드 : 문자열을 출력할 적에 매우 유용한 메소드이고, 대표적인 인자로는 {}(플레이스 홀더)가 있다.   \n",
    "  \n",
    "\n",
    "\n",
    "# 2. 자기 점검\n",
    "\n",
    "   - 강의 중 어려웠던 점이나, 잘 모르겠는 것들을 써주세요.  \n",
    "      심화문제 문제 5.8번이 잘 안풀립니다. 리스트 값을 비교했을 때 같은데 다르다고 출력이 됩니다. 왜 그런 결과가 나왔는지 모르겠습니다.   \n",
    "   \n",
    "\n",
    "# 3. 심화문제 풀기\n",
    "\n",
    "   - 5단원의 심화 문제를 풀어서 제출하세요."
   ]
  },
  {
   "cell_type": "markdown",
   "id": "aa549827",
   "metadata": {},
   "source": [
    "# 5.1"
   ]
  },
  {
   "cell_type": "code",
   "execution_count": 24,
   "id": "cc217a79",
   "metadata": {},
   "outputs": [
    {
     "name": "stdout",
     "output_type": "stream",
     "text": [
      "1에서 100까지의 수 중에서 홀수는 :\n",
      "1 3 5 7 9 11 13 15 17 19 21 23 25 27 29 31 33 35 37 39 41 43 45 47 49 51 53 55 57 59 61 63 65 67 69 71 73 75 77 79 81 83 85 87 89 91 93 95 97 99 "
     ]
    }
   ],
   "source": [
    "# 1)\n",
    "print(\"1에서 100까지의 수 중에서 홀수는 :\")\n",
    "for i in range(1, 101) :\n",
    "    if i%2 != 0 :\n",
    "        print(i,end =' ')"
   ]
  },
  {
   "cell_type": "code",
   "execution_count": 19,
   "id": "6a1a8cb6",
   "metadata": {},
   "outputs": [
    {
     "name": "stdout",
     "output_type": "stream",
     "text": [
      "1에서 100까지의 수 중에서 홀수는 :\n",
      "1 3 5 7 9 11 13 15 17 19 21 23 25 27 29 31 33 35 37 39 41 43 45 47 49 51 53 55 57 59 61 63 65 67 69 71 73 75 77 79 81 83 85 87 89 91 93 95 97 99 "
     ]
    }
   ],
   "source": [
    "# 2)\n",
    "i = 0\n",
    "print(\"1에서 100까지의 수 중에서 홀수는 :\")\n",
    "while i <= 100 :\n",
    "    if i%2 != 0 :\n",
    "        print(i, end = ' ')\n",
    "    i=i+1"
   ]
  },
  {
   "cell_type": "code",
   "execution_count": 25,
   "id": "9338a187",
   "metadata": {},
   "outputs": [
    {
     "name": "stdout",
     "output_type": "stream",
     "text": [
      "1에서 100까지의 수 중에서 짝수는 :\n",
      "2 4 6 8 10 12 14 16 18 20 22 24 26 28 30 32 34 36 38 40 42 44 46 48 50 52 54 56 58 60 62 64 66 68 70 72 74 76 78 80 82 84 86 88 90 92 94 96 98 100 "
     ]
    }
   ],
   "source": [
    "# 3) for반복문\n",
    "print(\"1에서 100까지의 수 중에서 짝수는 :\")\n",
    "for i in range(1, 101) :\n",
    "    if i%2 == 0 :\n",
    "        print(i,end =' ')"
   ]
  },
  {
   "cell_type": "code",
   "execution_count": 26,
   "id": "5b457f71",
   "metadata": {},
   "outputs": [
    {
     "name": "stdout",
     "output_type": "stream",
     "text": [
      "1에서 100까지의 수 중에서 짝수는 :\n",
      "0 2 4 6 8 10 12 14 16 18 20 22 24 26 28 30 32 34 36 38 40 42 44 46 48 50 52 54 56 58 60 62 64 66 68 70 72 74 76 78 80 82 84 86 88 90 92 94 96 98 100 "
     ]
    }
   ],
   "source": [
    "# 3) while 반복문\n",
    "i = 0\n",
    "print(\"1에서 100까지의 수 중에서 짝수는 :\")\n",
    "while i <= 100 :\n",
    "    if i%2 == 0 :\n",
    "        print(i, end = ' ')\n",
    "    i=i+1"
   ]
  },
  {
   "cell_type": "markdown",
   "id": "dbc4c4f3",
   "metadata": {},
   "source": [
    "# 5.2"
   ]
  },
  {
   "cell_type": "code",
   "execution_count": 29,
   "id": "9dd5f5d3",
   "metadata": {},
   "outputs": [
    {
     "name": "stdout",
     "output_type": "stream",
     "text": [
      "1에서 100까지의 수 중에서 홀수의 합 :  2500\n"
     ]
    }
   ],
   "source": [
    "# 1) for반복문 홀수의 합\n",
    "add = 0\n",
    "for i in range(1, 101) :\n",
    "    if i%2 != 0 :\n",
    "        add = add + i\n",
    "\n",
    "print(\"1에서 100까지의 수 중에서 홀수의 합 : \", add)"
   ]
  },
  {
   "cell_type": "code",
   "execution_count": 30,
   "id": "21b64f0d",
   "metadata": {},
   "outputs": [
    {
     "name": "stdout",
     "output_type": "stream",
     "text": [
      "1에서 100까지의 수 중에서 홀수의 합 :  2550\n"
     ]
    }
   ],
   "source": [
    "# 2) while 반복문 짝수의 합\n",
    "\n",
    "i = 0\n",
    "add = 0\n",
    "\n",
    "while i <= 100 :\n",
    "    if i%2 == 0 :\n",
    "        add = add+i\n",
    "    i=i+1\n",
    "\n",
    "print(\"1에서 100까지의 수 중에서 홀수의 합 : \", add)"
   ]
  },
  {
   "cell_type": "code",
   "execution_count": 34,
   "id": "da5c98e0",
   "metadata": {},
   "outputs": [
    {
     "name": "stdout",
     "output_type": "stream",
     "text": [
      "시작 정수를 입력하세요 : 2\n",
      "끝 정수를 입력하세요 : 6\n",
      "2 에서 6 까지 정수의 합 : 20\n"
     ]
    }
   ],
   "source": [
    "# 3) 시작정수에서 끝정수까지의 합\n",
    "\n",
    "import random\n",
    "\n",
    "while True :\n",
    "    x = int(input(\"시작 정수를 입력하세요 : \"))\n",
    "    y = int(input(\"끝 정수를 입력하세요 : \"))\n",
    "    sum = 0\n",
    "    for i in range(x,y+1) : \n",
    "        sum = sum+i\n",
    "    i = i+1\n",
    "    \n",
    "    if x<y :\n",
    "        print(\"%s 에서 %s 까지 정수의 합 : %s\"%(x,y,sum))\n",
    "        break \n",
    "    "
   ]
  },
  {
   "cell_type": "markdown",
   "id": "6354d32f",
   "metadata": {},
   "source": [
    "# 5.3"
   ]
  },
  {
   "cell_type": "code",
   "execution_count": 35,
   "id": "63d8e689",
   "metadata": {},
   "outputs": [
    {
     "name": "stdout",
     "output_type": "stream",
     "text": [
      "맛나 식당에 오신 것을 환영합니다. 메뉴는 다음과 같습니다. \n",
      " 1) 햄버거 \n",
      " 2) 치킨 \n",
      " 3) 피자 \n",
      "1에서 3까지 메뉴를 선택하세요 : 5\n",
      "메뉴를 다시 입력하세요 : 6\n",
      "메뉴를 다시 입력하세요 : 0\n",
      "메뉴를 다시 입력하세요 : 2\n",
      "치킨을 선택하셨습니다.\n"
     ]
    }
   ],
   "source": [
    "o = int(input(\"맛나 식당에 오신 것을 환영합니다. 메뉴는 다음과 같습니다. \\n 1) 햄버거 \\n 2) 치킨 \\n 3) 피자 \\n1에서 3까지 메뉴를 선택하세요 : \"))\n",
    "\n",
    "while True :\n",
    "    if o == 1 :\n",
    "        print(\"햄버거를 선택하셨습니다.\")\n",
    "        break\n",
    "    elif o == 2 :\n",
    "        print(\"치킨을 선택하셨습니다.\")\n",
    "        break\n",
    "    elif o == 3 :\n",
    "        print(\"피자를 선택하셨습니다.\")\n",
    "        break\n",
    "    else :\n",
    "        o = int(input(\"메뉴를 다시 입력하세요 : \"))"
   ]
  },
  {
   "cell_type": "markdown",
   "id": "dcd7d7fd",
   "metadata": {},
   "source": [
    "# 5.4"
   ]
  },
  {
   "cell_type": "code",
   "execution_count": 44,
   "id": "00d951d6",
   "metadata": {},
   "outputs": [
    {
     "name": "stdout",
     "output_type": "stream",
     "text": [
      "숫자를 입력하세요 : 5\n",
      "     *\n",
      "    **\n",
      "   ***\n",
      "  ****\n",
      " *****\n"
     ]
    }
   ],
   "source": [
    "a = int(input(\"숫자를 입력하세요 : \"))\n",
    "\n",
    "for i in range(1, a+1) :\n",
    "    x = '*' * i \n",
    "    y = ' ' * (a-i)\n",
    "    print(y,x)"
   ]
  },
  {
   "cell_type": "markdown",
   "id": "5a7b1dea",
   "metadata": {},
   "source": [
    "# 5.5"
   ]
  },
  {
   "cell_type": "code",
   "execution_count": 46,
   "id": "81a47b69",
   "metadata": {},
   "outputs": [
    {
     "name": "stdout",
     "output_type": "stream",
     "text": [
      "day : 1 달팽이의 위치 : 7\n",
      "day : 2 달팽이의 위치 : 9\n",
      "day : 3 달팽이의 위치 : 11\n",
      "day : 4 달팽이의 위치 : 13\n",
      "day : 5 달팽이의 위치 : 15\n",
      "day : 6 달팽이의 위치 : 17\n",
      "day : 7 달팽이의 위치 : 19\n",
      "day : 8 달팽이의 위치 : 21\n",
      "day : 9 달팽이의 위치 : 23\n",
      "day : 10 달팽이의 위치 : 25\n",
      "day : 11 달팽이의 위치 : 27\n",
      "day : 12 달팽이의 위치 : 29\n",
      "축하합니다. 우물을 탈출하였습니다.\n",
      "우물을 탈출하는 데 걸린 날은 13일 입니다.\n"
     ]
    }
   ],
   "source": [
    "date = 1\n",
    "location = 7\n",
    "while location<31:\n",
    "    print(\"day : {0} 달팽이의 위치 : {1}\".format(date, location))\n",
    "    date = date + 1\n",
    "    location = location-5+7\n",
    "print(\"축하합니다. 우물을 탈출하였습니다.\")\n",
    "print(\"우물을 탈출하는 데 걸린 날은 {}일 입니다.\".format(date))"
   ]
  },
  {
   "cell_type": "markdown",
   "id": "02264d14",
   "metadata": {},
   "source": [
    "# 5.6"
   ]
  },
  {
   "cell_type": "code",
   "execution_count": 49,
   "id": "6ef4ca1c",
   "metadata": {},
   "outputs": [
    {
     "name": "stdout",
     "output_type": "stream",
     "text": [
      "충전 또는 사용한 연료를 +/- 기호와 함께 입력하시오 : +60\n",
      "현재 탱크양은 560입니다.\n",
      "충전 또는 사용한 연료를 +/- 기호와 함께 입력하시오 : -300\n",
      "현재 탱크양은 260입니다.\n",
      "충전 또는 사용한 연료를 +/- 기호와 함께 입력하시오 : -220\n",
      "현재 탱크양은 40입니다.\n",
      "경고 : 연료가 10% 미만이니 충전하세요!\n"
     ]
    }
   ],
   "source": [
    "fuel = 500\n",
    "\n",
    "while True : \n",
    "    if fuel >= 50 :\n",
    "        a = int(input(\"충전 또는 사용한 연료를 +/- 기호와 함께 입력하시오 : \"))\n",
    "        fuel = fuel + a\n",
    "        print(\"현재 탱크양은 {}입니다.\".format(fuel))\n",
    "    else : \n",
    "        print(\"경고 : 연료가 10% 미만이니 충전하세요!\")\n",
    "        break"
   ]
  },
  {
   "cell_type": "markdown",
   "id": "8541ff66",
   "metadata": {},
   "source": [
    "# 5.7"
   ]
  },
  {
   "cell_type": "code",
   "execution_count": 8,
   "id": "3fed6d6c",
   "metadata": {},
   "outputs": [
    {
     "name": "stdout",
     "output_type": "stream",
     "text": [
      "세 자리의 암스트롱 수 : \n",
      "153 370 371 407 "
     ]
    }
   ],
   "source": [
    "print(\"세 자리의 암스트롱 수 : \")\n",
    "for i in range(100, 1000) : \n",
    "    n1 = i // 100 #백의자리\n",
    "    n2 = (i//10)%10 #십의 자리\n",
    "    n3 = (i%100%10) #일의 자리\n",
    "    if (n1*100 + n2*10 + n3) == (n1**3 + n2**3 + n3**3) : \n",
    "        print(i, end = ' ')\n",
    "    i = i+1"
   ]
  },
  {
   "cell_type": "markdown",
   "id": "2b387fee",
   "metadata": {},
   "source": [
    "# 5.8"
   ]
  },
  {
   "cell_type": "code",
   "execution_count": 15,
   "id": "6bb3e22a",
   "metadata": {},
   "outputs": [
    {
     "name": "stdout",
     "output_type": "stream",
     "text": [
      "정수를 입력하시오 : 3443\n",
      "3443은(는) 거꾸로 정수가 아닙니다.\n",
      "정수를 입력하시오 : 324\n",
      "324은(는) 거꾸로 정수가 아닙니다.\n",
      "정수를 입력하시오 : -99\n",
      "프로그램을 종료합니다.\n"
     ]
    }
   ],
   "source": [
    "    n = input(\"정수를 입력하시오 : \")\n",
    "    x = True\n",
    "    \n",
    "    while x : \n",
    "        if int(n) == -99 : \n",
    "            print(\"프로그램을 종료합니다.\")\n",
    "            x = False\n",
    "        else : \n",
    "            a = list(map(int,' '.join(str(n)).split()))\n",
    "            if a == a.reverse() : \n",
    "                print(\"{}은(는) 거꾸로 정수입니다.\".format(n))\n",
    "                n = input(\"정수를 입력하시오 : \")\n",
    "            else :\n",
    "                print(\"{}은(는) 거꾸로 정수가 아닙니다.\".format(n))\n",
    "                n = input(\"정수를 입력하시오 : \")"
   ]
  },
  {
   "cell_type": "code",
   "execution_count": 18,
   "id": "1726d4b2",
   "metadata": {},
   "outputs": [
    {
     "name": "stdout",
     "output_type": "stream",
     "text": [
      "1\n",
      "정수를 입력하시오 : 3443\n",
      "[3, 4, 4, 3]\n",
      "<class 'int'>\n",
      "0\n",
      "[3, 4, 4, 3]\n",
      "<class 'int'>\n"
     ]
    }
   ],
   "source": [
    "#리스트 비교\n",
    "list1 = [1,2,3,4]\n",
    "list2 = [1,2,3,4]\n",
    "if list1 == list2 :\n",
    "    print(1)\n",
    "else :\n",
    "    print(0)\n",
    "\n",
    "#문제가 발생한 부분 \n",
    "n = input(\"정수를 입력하시오 : \")\n",
    "a = list(map(int,' '.join(str(n)).split())) #입력받은 숫자를 리스트로 만들었습니다.\n",
    "\n",
    "#입력받은 리스트와 리스트 값의 타입을 출력하였습니다.\n",
    "print(a)\n",
    "print(type(a[1]))\n",
    "\n",
    "#조건문으로 리스트를 비교했습니다.\n",
    "if a == a.reverse() : \n",
    "    print(1)\n",
    "else : \n",
    "    print(0)\n",
    "    \n",
    "#reverse()된 a값을 프린트하고 리스트 값의 타입을 출력하였습니다.\n",
    "print(a)\n",
    "print(type(a[1]))\n",
    "\n",
    "#리스트의 값이 다른게 아닌 것 같은데 왜 오류가 뜬건지 모르겠습니다."
   ]
  },
  {
   "cell_type": "markdown",
   "id": "388cfc4a",
   "metadata": {},
   "source": [
    "# 5.9"
   ]
  },
  {
   "cell_type": "code",
   "execution_count": 71,
   "id": "776d6ddb",
   "metadata": {},
   "outputs": [
    {
     "name": "stdout",
     "output_type": "stream",
     "text": [
      "정수를 입력하시오 : 34\n",
      "정수를 입력하시오 : 920\n",
      "정수를 입력하시오 : 320\n",
      "정수를 입력하시오 : 30\n",
      "정수를 입력하시오 : -99\n",
      "4개의 유효한 정수 중 가장 큰 정수는 920 이고, 가장 작은 정수는 30 입니다.\n"
     ]
    }
   ],
   "source": [
    "n = 0\n",
    "r = []\n",
    "a = int(input(\"정수를 입력하시오 : \"))\n",
    "\n",
    "while a != -99 :\n",
    "    n = n+1\n",
    "    r.append(a)\n",
    "    r.sort()\n",
    "    a = int(input(\"정수를 입력하시오 : \"))\n",
    "    \n",
    "print(\"%s개의 유효한 정수 중 가장 큰 정수는 %s 이고, 가장 작은 정수는 %s 입니다.\"%(n, r[n-1], r[0]))"
   ]
  },
  {
   "cell_type": "markdown",
   "id": "d14c0152",
   "metadata": {},
   "source": [
    "# 5.10"
   ]
  },
  {
   "cell_type": "code",
   "execution_count": 9,
   "id": "3e83e266",
   "metadata": {},
   "outputs": [],
   "source": [
    "#거북이 부르기\n",
    "import turtle, random\n",
    "t = turtle.Turtle()\n",
    "t.shape(\"turtle\")"
   ]
  },
  {
   "cell_type": "code",
   "execution_count": 7,
   "id": "03b0e8e3",
   "metadata": {},
   "outputs": [],
   "source": [
    "# while문을 사용하여 구현\n",
    "i = 0\n",
    "while i<=30 :\n",
    "    n = random.randrange(2)\n",
    "    if n == 0 :\n",
    "        t.left(90)\n",
    "        t.forward(50)\n",
    "    else :\n",
    "        t.right(90)\n",
    "        t.forward(50)\n",
    "    i = i+1\n",
    "\n",
    "\n",
    "turtle.done()"
   ]
  },
  {
   "cell_type": "code",
   "execution_count": 10,
   "id": "4d189f91",
   "metadata": {},
   "outputs": [],
   "source": [
    "# for문을 사용하여 구현\n",
    "\n",
    "for i in range(0, 31) :\n",
    "        n = random.randrange(2)\n",
    "        if n == 0 :\n",
    "           t.left(90)\n",
    "           t.forward(50)\n",
    "        else :\n",
    "            t.right(90)\n",
    "            t.forward(50)\n",
    "        i = i+1\n",
    "\n",
    "turtle.done()"
   ]
  }
 ],
 "metadata": {
  "kernelspec": {
   "display_name": "Python 3 (ipykernel)",
   "language": "python",
   "name": "python3"
  },
  "language_info": {
   "codemirror_mode": {
    "name": "ipython",
    "version": 3
   },
   "file_extension": ".py",
   "mimetype": "text/x-python",
   "name": "python",
   "nbconvert_exporter": "python",
   "pygments_lexer": "ipython3",
   "version": "3.9.7"
  }
 },
 "nbformat": 4,
 "nbformat_minor": 5
}
