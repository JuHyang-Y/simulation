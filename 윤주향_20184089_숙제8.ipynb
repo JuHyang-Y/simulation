{
 "cells": [
  {
   "cell_type": "markdown",
   "id": "aefeb4a9",
   "metadata": {},
   "source": [
    "# 8장 심화문제\n",
    "- 윤주향\n",
    "- 201841089"
   ]
  },
  {
   "cell_type": "markdown",
   "id": "3249babb",
   "metadata": {},
   "source": [
    "# 1.중요사항 정리   \n",
    "- 강의에서 가장 중요하고 생각하는 용어, 개념 등을 세 개 이상 써주세요.   \n",
    "   1) 딕셔너리는 리스트와 같이 값을 저장한느 자료구조로, 중괄호 {}로 생성한다.    \n",
    "   2) strip() : 함수는 입력 문자열의 앞 뒤에 있는 공백을 깨끗하게 정리해 준다.    \n",
    "   3) 파일 종류는 일반적으로 마침표(.)문자 뒤에 py,txt, doc, hwp, pdf와 같은 확장자를 붙여서 구분한다.    \n",
    "      \n",
    "\n",
    "\n",
    "# 2. 자기 점검\n",
    "\n",
    "   - 강의 중 어려웠던 점이나, 잘 모르겠는 것들을 써주세요.  \n",
    "   배운 개념들을 적용시켜 문제를 푸는 과정이 힘들었다.   \n",
    "   중복이 없는 요소를 구하는 문제를 풀 때 인터넷을 찾아서 예외-처리를 사용하여 풀었는데 다른 방법으로 어떻게 풀어야 할 지 모르겠다.   \n",
    "         \n",
    "   \n",
    "\n",
    "# 3. 심화문제 풀기\n",
    "\n",
    "   - 8단원의 심화 문제를 풀어서 제출하세요."
   ]
  },
  {
   "cell_type": "markdown",
   "id": "6c20368b",
   "metadata": {},
   "source": [
    "# 8.1"
   ]
  },
  {
   "cell_type": "code",
   "execution_count": 25,
   "id": "7fc5cc42",
   "metadata": {},
   "outputs": [
    {
     "name": "stdout",
     "output_type": "stream",
     "text": [
      "사과, 배, 수박, 귤, 포도 가격을 공백으로 구분하여 입력 : 3000 4500 6000 2400 3400\n",
      "----------오늘의 과일 가격------------- \n",
      "사과 : 3000 원\n",
      "배 : 4500 원\n",
      "수박 : 6000 원\n",
      "귤 : 2400 원\n",
      "포도 : 3400 원\n"
     ]
    }
   ],
   "source": [
    "fruits_dic = {'사과' : 0, '배' : 0, '수박' : 0,  '귤' : 0, '포도' : 0}\n",
    "lst=[]\n",
    "lst = map(int,input(\"사과, 배, 수박, 귤, 포도 가격을 공백으로 구분하여 입력 : \").split()) #입력받은 가격을 공백으로 나눈다.\n",
    "# 3000 4500 6000 2400 3400 값 입력\n",
    "lst= list(lst) #map클래스를 list로 바꿔준다.\n",
    "#각 키에 리스트의 값을 대입한다.\n",
    "fruits_dic['사과'] = lst[0]\n",
    "fruits_dic['배'] = lst[1]\n",
    "fruits_dic['수박'] = lst[2]\n",
    "fruits_dic['귤'] = lst[3]\n",
    "fruits_dic['포도'] = lst[4]\n",
    "\n",
    "print(\"----------오늘의 과일 가격------------- \")\n",
    "for name, price in fruits_dic.items():\n",
    "    print(name,':',price,\"원\")"
   ]
  },
  {
   "cell_type": "markdown",
   "id": "5f60db31",
   "metadata": {},
   "source": [
    "# 8.2"
   ]
  },
  {
   "cell_type": "code",
   "execution_count": 26,
   "id": "63792a3b",
   "metadata": {},
   "outputs": [
    {
     "name": "stdout",
     "output_type": "stream",
     "text": [
      "구매를 원하는 과일의 이름을 입력하시오 : 수박\n",
      "오늘 수박 가격은 6000원 입니다.\n"
     ]
    }
   ],
   "source": [
    "s = input(\"구매를 원하는 과일의 이름을 입력하시오 : \")\n",
    "print(\"오늘 {0} 가격은 {1}원 입니다.\".format(s, fruits_dic[s]))"
   ]
  },
  {
   "cell_type": "markdown",
   "id": "143fee83",
   "metadata": {},
   "source": [
    "# 8.3"
   ]
  },
  {
   "cell_type": "code",
   "execution_count": 7,
   "id": "832096fb",
   "metadata": {},
   "outputs": [],
   "source": [
    "student_tup = (('211101', '최성훈', '010-1234-4500'),('211102','김은지','010-2230-6540'),('211103','이세은','010-3232-7788'))"
   ]
  },
  {
   "cell_type": "code",
   "execution_count": 57,
   "id": "5729793c",
   "metadata": {
    "scrolled": true
   },
   "outputs": [
    {
     "name": "stdout",
     "output_type": "stream",
     "text": [
      "학생의 정보 목록\n",
      "{ 211101 : ['최성훈', '010-1234-4500'] }\n",
      "{ 211102 : ['김은지', '010-2230-6540'] }\n",
      "{ 211103 : ['이세은', '010-3232-7788'] }\n"
     ]
    }
   ],
   "source": [
    "#1)\n",
    "#딕셔너리로 수정\n",
    "student_tup = {'211101' : ['최성훈', '010-1234-4500'], '211102' : ['김은지','010-2230-6540'], '211103' : ['이세은','010-3232-7788']}\n",
    "\n",
    "print(\"학생의 정보 목록\")\n",
    "for st_num, st_inf in student_tup.items() :\n",
    "    print(\"{\", st_num, \":\", st_inf,\"}\")"
   ]
  },
  {
   "cell_type": "code",
   "execution_count": 48,
   "id": "541dff8f",
   "metadata": {},
   "outputs": [
    {
     "name": "stdout",
     "output_type": "stream",
     "text": [
      "학번을 입력하시오 : 211103\n",
      "이름 :  이세은\n",
      "연락처 :  010-3232-7788\n"
     ]
    }
   ],
   "source": [
    "#2)\n",
    "a = input(\"학번을 입력하시오 : \")\n",
    "print(\"이름 : \",student_tup[a][0])\n",
    "print(\"연락처 : \", student_tup[a][1])"
   ]
  },
  {
   "cell_type": "code",
   "execution_count": 58,
   "id": "7dfe36e9",
   "metadata": {},
   "outputs": [
    {
     "name": "stdout",
     "output_type": "stream",
     "text": [
      "학생의 정보 목록\n",
      "{ 211101 : ['최성훈', '010-1234-4500', 4.3] }\n",
      "{ 211102 : ['김은지', '010-2230-6540', 3.9] }\n",
      "{ 211103 : ['이세은', '010-3232-7788', 4.25] }\n"
     ]
    }
   ],
   "source": [
    "#3)\n",
    "score = [4.3, 3.9, 4.25]\n",
    "j = 0\n",
    "for i in student_tup :  \n",
    "        student_tup[i].append(score[j])\n",
    "        j = j+1\n",
    "\n",
    "print(\"학생의 정보 목록\")\n",
    "for st_num, st_inf in student_tup.items() :\n",
    "    print(\"{\", st_num, \":\", st_inf,\"}\")"
   ]
  },
  {
   "cell_type": "code",
   "execution_count": 78,
   "id": "9c194d51",
   "metadata": {},
   "outputs": [
    {
     "name": "stdout",
     "output_type": "stream",
     "text": [
      "전체 학생의 학점 평균 : 4.15\n"
     ]
    }
   ],
   "source": [
    "#4)\n",
    "y = []\n",
    "for i in student_tup : \n",
    "    x = student_tup[i][-1]\n",
    "    y.append(x)\n",
    "    \n",
    "print(\"전체 학생의 학점 평균 : {:.2f}\".format(sum(y)/len(student_tup)))"
   ]
  },
  {
   "cell_type": "markdown",
   "id": "605c0f79",
   "metadata": {},
   "source": [
    "# 8.4"
   ]
  },
  {
   "cell_type": "code",
   "execution_count": 80,
   "id": "e1acb677",
   "metadata": {},
   "outputs": [],
   "source": [
    "lst = [10, 30, 40, 50, 30, 30, 20, 20, 20, 10, 30]"
   ]
  },
  {
   "cell_type": "code",
   "execution_count": 99,
   "id": "279fcbd1",
   "metadata": {},
   "outputs": [
    {
     "name": "stdout",
     "output_type": "stream",
     "text": [
      "중복이 없는 원소 :  [40, 50]\n"
     ]
    }
   ],
   "source": [
    "#1)\n",
    "count={} #count라는 딕셔너리 생성\n",
    "c = []\n",
    "for i in lst:\n",
    "    #예외 처리 사용 lst의 요소를 하나씩 꺼내서 count에 대입\n",
    "    try: count[i] += 1 #이미 존재하는 key값일 때 +1을 한다.\n",
    "    except: count[i]=1 #key에 없는 값이면 1로 저장된다.\n",
    "for j in count : \n",
    "    if count[j] == 1 :\n",
    "        c.append(j)\n",
    "print(\"중복이 없는 원소 : \", c)"
   ]
  },
  {
   "cell_type": "code",
   "execution_count": 20,
   "id": "2d1a7354",
   "metadata": {},
   "outputs": [
    {
     "name": "stdout",
     "output_type": "stream",
     "text": [
      "전체 원소 :  [10, 20, 30, 40, 50]\n"
     ]
    }
   ],
   "source": [
    "#2)\n",
    "print(\"전체 원소 : \", sorted(set(lst)))"
   ]
  },
  {
   "cell_type": "code",
   "execution_count": 97,
   "id": "8235f75a",
   "metadata": {},
   "outputs": [
    {
     "name": "stdout",
     "output_type": "stream",
     "text": [
      "10 : 2 회\n",
      "20 : 3 회\n",
      "30 : 4 회\n"
     ]
    }
   ],
   "source": [
    "k1, k2, k3 = 0, 0, 0\n",
    "for i in lst : \n",
    "    if i == 10 : \n",
    "        k1 = k1 + 1\n",
    "    elif i == 20 : \n",
    "        k2 = k2 + 1\n",
    "    elif i == 30 :\n",
    "        k3 = k3 + 1\n",
    "    else : \n",
    "        pass\n",
    "        \n",
    "print(\"10 : {} 회\".format(k1))\n",
    "print(\"20 : {} 회\".format(k2))\n",
    "print(\"30 : {} 회\".format(k3))"
   ]
  },
  {
   "cell_type": "markdown",
   "id": "7e64655b",
   "metadata": {},
   "source": [
    "# 8.5"
   ]
  },
  {
   "cell_type": "code",
   "execution_count": 3,
   "id": "a313a77e",
   "metadata": {},
   "outputs": [
    {
     "name": "stdout",
     "output_type": "stream",
     "text": [
      "사전 프로그램 시작... 종료는 q를 입력\n",
      "$ < one : 하나\n",
      "$ > one\n",
      "하나\n",
      "$ q\n",
      "사전 프로그램을 종료합니다.\n"
     ]
    }
   ],
   "source": [
    "# LAB 8-2)\n",
    "print(\"사전 프로그램 시작... 종료는 q를 입력\")\n",
    "dictionary = {}\n",
    "\n",
    "while True : \n",
    "    st = input(\"$ \")\n",
    "    command = st[0]\n",
    "    if command == \"<\" : \n",
    "        st = st[1:]\n",
    "        inputStr = st.split(':')\n",
    "        if len(inputStr) < 2 : \n",
    "            print('입력 오류가 발생했습니다.')\n",
    "        else :\n",
    "            dictionary[inputStr[0].strip()] = inputStr[1].strip()\n",
    "    elif command == '>':\n",
    "        st = st[1:]\n",
    "        inputStr = st.strip()\n",
    "        if inputStr in dictionary :\n",
    "            print(dictionary[inputStr])\n",
    "        else : \n",
    "            print('{}가 사전에 없습니다.'.format(inputStr))\n",
    "    elif command == 'q' : \n",
    "        break\n",
    "    else : \n",
    "        print('입력 오류가 발생했습니다.')\n",
    "print(\"사전 프로그램을 종료합니다.\")"
   ]
  },
  {
   "cell_type": "code",
   "execution_count": 6,
   "id": "6c520b47",
   "metadata": {},
   "outputs": [
    {
     "name": "stdout",
     "output_type": "stream",
     "text": [
      "사전 프로그램 시작... 종료는 q를 입력\n",
      "$ < one : 하나\n",
      "$ < two : 둘\n",
      "$ < house : 집\n",
      "$ v\n",
      "영어 사전에 있는 단어와 뜻을 출력합니다.\n",
      "one : 하나\n",
      "two : 둘\n",
      "house : 집\n",
      "사전 프로그램을 종료합니다.\n"
     ]
    }
   ],
   "source": [
    "print(\"사전 프로그램 시작... 종료는 q를 입력\")\n",
    "dictionary = {}\n",
    "\n",
    "while True : \n",
    "    st = input(\"$ \")\n",
    "    command = st[0]\n",
    "    if command == \"<\" : \n",
    "        st = st[1:]\n",
    "        inputStr = st.split(':')\n",
    "        if len(inputStr) < 2 : \n",
    "            print('입력 오류가 발생했습니다.')\n",
    "        else :\n",
    "            dictionary[inputStr[0].strip()] = inputStr[1].strip()\n",
    "    elif command == '>':\n",
    "        st = st[1:]\n",
    "        inputStr = st.strip()\n",
    "        if inputStr in dictionary :\n",
    "            print(dictionary[inputStr])\n",
    "        else : \n",
    "            print('{}가 사전에 없습니다.'.format(inputStr))\n",
    "    elif command == 'q' : \n",
    "        break\n",
    "    elif command == 'v' : #추가한 부분\n",
    "        print(\"영어 사전에 있는 단어와 뜻을 출력합니다.\")\n",
    "        for word, mean in dictionary.items():\n",
    "            print(word, ':', mean)\n",
    "        break\n",
    "    else : \n",
    "        print('입력 오류가 발생했습니다.')\n",
    "print(\"사전 프로그램을 종료합니다.\")"
   ]
  },
  {
   "cell_type": "markdown",
   "id": "7b201e96",
   "metadata": {},
   "source": [
    "# 8.6"
   ]
  },
  {
   "cell_type": "code",
   "execution_count": 7,
   "id": "0b796fa1",
   "metadata": {},
   "outputs": [],
   "source": [
    "student_tuple = [('211101', '강이안', ' 010-123-1111'), ('211102', '박동민', '010-123-2222'),('211103','김수정','010-123-3333')]"
   ]
  },
  {
   "cell_type": "code",
   "execution_count": 37,
   "id": "ae59de8c",
   "metadata": {},
   "outputs": [
    {
     "name": "stdout",
     "output_type": "stream",
     "text": [
      "211101 : 강이안\n",
      "211102 : 박동민\n",
      "211103 : 김수정\n"
     ]
    }
   ],
   "source": [
    "student_tuple = {'211101' : ['강이안', ' 010-123-1111'], '211102' : ['박동민', '010-123-2222'], '211103' : ['김수정','010-123-3333']}\n",
    "for st_num, st_inf in student_tuple.items() :\n",
    "    print(st_num, \":\", st_inf[0])"
   ]
  },
  {
   "cell_type": "code",
   "execution_count": 39,
   "id": "24a5a9ed",
   "metadata": {},
   "outputs": [
    {
     "name": "stdout",
     "output_type": "stream",
     "text": [
      "학번을 입력하세요 : 211103\n",
      "211103 학생은 김수정이며, 전화번호는 010-123-3333입니다.\n"
     ]
    }
   ],
   "source": [
    "a = input(\"학번을 입력하세요 : \")\n",
    "print(a, \"학생은 {0}이며, 전화번호는 {1}입니다.\".format(student_tuple[a][0],student_tuple[a][1]) )"
   ]
  }
 ],
 "metadata": {
  "kernelspec": {
   "display_name": "Python 3 (ipykernel)",
   "language": "python",
   "name": "python3"
  },
  "language_info": {
   "codemirror_mode": {
    "name": "ipython",
    "version": 3
   },
   "file_extension": ".py",
   "mimetype": "text/x-python",
   "name": "python",
   "nbconvert_exporter": "python",
   "pygments_lexer": "ipython3",
   "version": "3.9.7"
  }
 },
 "nbformat": 4,
 "nbformat_minor": 5
}
