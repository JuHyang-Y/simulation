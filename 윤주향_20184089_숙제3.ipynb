{
 "cells": [
  {
   "cell_type": "markdown",
   "id": "0005926c",
   "metadata": {},
   "source": [
    "# 3장 심화문제   \n",
    "- 윤주향\n",
    "- 20184089"
   ]
  },
  {
   "cell_type": "markdown",
   "id": "c9f256f1",
   "metadata": {},
   "source": [
    "# 1.중요사항 정리   \n",
    "- 강의에서 가장 중요하고 생각하는 용어, 개념 등을 세 개 이상 써주세요.   \n",
    "1. 연산자 : 어떤 연산을 나태니는 기호이며, 덧셈, 뺄셈, 곱셈, 나눗셈, 지수(\\*\\*), 나눗셈의 몫(//), 나머지(%)가 있다.    \n",
    "2. 거듭제곱 연산자 : 거듭제곱 연산자는 다른 연산자들보다 높은 우선순위를 가지고, 오른쪽에서 왼쪽으로 계산된다.(2\\*\\*3\\*\\*3은 2\\*\\*(3\\*\\*3)이다.)   \n",
    "3. 논리연산자 : 파이썬에서 지원하는 and, or, not 연산자로, True나 False 중 하나의 값을 가지는 부울(bool)값을 반환한다.   \n",
    "4. 우선순위   \n",
    "1) ()              괄호   \n",
    "2) \\*\\*            지수 연산자   \n",
    "3) ~,+,-           단항 연산자(ex. -5)   \n",
    "4) \\*, /, %, //    곱셈, 나눗셈, 나머지 연산자   \n",
    "5) +, -            덧셈, 뺄셈 연산자   \n",
    "6) <=, <, >, >=    비교 연산자   \n",
    "7) ==, !=          동등 연산자   \n",
    "8) not, or, and    논리 연산자   \n",
    "\n",
    "\n",
    "# 2. 자기 점검\n",
    "\n",
    "   - 강의 중 어려웠던 점이나, 잘 모르겠는 것들을 써주세요.   \n",
    "    - 문제 3.8의 2번에서 입력받은 숫자를 거꾸로 출력하는 방법을 모르겠습니다.  \n",
    "    - 문제 3.9에서 이동시간을 시간, 분, 초 단위로 구하는 계산이 어려웠다.\n",
    "   \n",
    "   \n",
    "\n",
    "# 3. 심화문제 풀기\n",
    "\n",
    "   - 2단원의 심화 문제를 풀어서 제출하세요."
   ]
  },
  {
   "cell_type": "markdown",
   "id": "ccbb4547",
   "metadata": {},
   "source": [
    "## 3.1"
   ]
  },
  {
   "cell_type": "code",
   "execution_count": 1,
   "id": "caee8191",
   "metadata": {},
   "outputs": [
    {
     "name": "stdout",
     "output_type": "stream",
     "text": [
      "a     n     a**n\n",
      "2     2      4\n",
      "3     2      9\n",
      "4     2      16\n",
      "5     2      25\n",
      "6     2      36\n"
     ]
    }
   ],
   "source": [
    "print(\"a     n     a**n\")\n",
    "n = 2\n",
    "for a in range(2,7) :\n",
    " print(a,\"   \",n,\"    \", a**n)"
   ]
  },
  {
   "cell_type": "markdown",
   "id": "bfed490c",
   "metadata": {},
   "source": [
    "## 3.2"
   ]
  },
  {
   "cell_type": "code",
   "execution_count": 2,
   "id": "d0bae1ca",
   "metadata": {},
   "outputs": [
    {
     "name": "stdout",
     "output_type": "stream",
     "text": [
      "2의 제곱근 =  1.4142135623730951\n",
      "3의 제곱근 =  1.7320508075688772\n",
      "4의 제곱근 =  2.0\n",
      "5의 제곱근 =  2.23606797749979\n",
      "6의 제곱근 =  2.449489742783178\n",
      "7의 제곱근 =  2.6457513110645907\n",
      "8의 제곱근 =  2.8284271247461903\n",
      "9의 제곱근 =  3.0\n",
      "10의 제곱근 =  3.1622776601683795\n"
     ]
    }
   ],
   "source": [
    "print(\"2의 제곱근 = \", 2**0.5)\n",
    "print(\"3의 제곱근 = \", 3**0.5)\n",
    "print(\"4의 제곱근 = \", 4**0.5)\n",
    "print(\"5의 제곱근 = \", 5**0.5)\n",
    "print(\"6의 제곱근 = \", 6**0.5)\n",
    "print(\"7의 제곱근 = \", 7**0.5)\n",
    "print(\"8의 제곱근 = \", 8**0.5)\n",
    "print(\"9의 제곱근 = \", 9**0.5)\n",
    "print(\"10의 제곱근 = \", 10**0.5)"
   ]
  },
  {
   "cell_type": "markdown",
   "id": "a7553149",
   "metadata": {},
   "source": [
    "## 3.3"
   ]
  },
  {
   "cell_type": "code",
   "execution_count": 3,
   "id": "0cbb988d",
   "metadata": {},
   "outputs": [
    {
     "name": "stdout",
     "output_type": "stream",
     "text": [
      "2 4 8 16 32 64 128 256 512 1024\n"
     ]
    }
   ],
   "source": [
    "print(2, 2<<1, 2<<2, 2<<3, 2<<4, 2<<5, 2<<6, 2<<7, 2<<8, 2<<9)"
   ]
  },
  {
   "cell_type": "markdown",
   "id": "946e8bc4",
   "metadata": {},
   "source": [
    "## 3.4"
   ]
  },
  {
   "cell_type": "code",
   "execution_count": 33,
   "id": "604a1a37",
   "metadata": {},
   "outputs": [
    {
     "name": "stdout",
     "output_type": "stream",
     "text": [
      "정수를 입력하세요 :120\n",
      "입력된 정수는 0에서 100의 범위 안에 있는 짝수인가요?  False\n",
      "정수를 입력하세요 :88\n",
      "입력된 정수는 0에서 100의 범위 안에 있는 짝수인가요?  True\n"
     ]
    }
   ],
   "source": [
    "a=int(input(\"정수를 입력하세요 :\"))\n",
    "b = a%2\n",
    "#나머지가 0이면 짝수, 1이면 홀수이기 때문에 bool형을 사용하여 0이 들어가면 False가 나오게 한다.\n",
    "print(\"입력된 정수는 0에서 100의 범위 안에 있는 짝수인가요? \", 0<a<=100 and b==0)\n",
    "a=int(input(\"정수를 입력하세요 :\"))\n",
    "print(\"입력된 정수는 0에서 100의 범위 안에 있는 짝수인가요? \", 0<a<=100 and b==0)"
   ]
  },
  {
   "cell_type": "code",
   "execution_count": 35,
   "id": "1019ffbb",
   "metadata": {},
   "outputs": [
    {
     "name": "stdout",
     "output_type": "stream",
     "text": [
      "정수를 입력하세요 :120\n",
      "입력된 정수는 0에서 100의 범위 안에 있는 짝수인가요? False\n",
      "정수를 입력하세요 :88\n",
      "입력된 정수는 0에서 100의 범위 안에 있는 짝수인가요? True\n"
     ]
    }
   ],
   "source": [
    "#while문 작성\n",
    "while True :\n",
    "    a = int(input(\"정수를 입력하세요 :\"))\n",
    "    b = a%2\n",
    "    if 0<a<=100 and b==0 : #둘 다 참이면 break\n",
    "        break\n",
    "    else :\n",
    "        print(\"입력된 정수는 0에서 100의 범위 안에 있는 짝수인가요? False\")\n",
    "#결과 출력\n",
    "print(\"입력된 정수는 0에서 100의 범위 안에 있는 짝수인가요? True\")"
   ]
  },
  {
   "cell_type": "markdown",
   "id": "f8c87f08",
   "metadata": {},
   "source": [
    "## 3.5"
   ]
  },
  {
   "cell_type": "code",
   "execution_count": 37,
   "id": "30612fb4",
   "metadata": {},
   "outputs": [
    {
     "name": "stdout",
     "output_type": "stream",
     "text": [
      "0b101\n",
      "0b110\n",
      "0b101 & 0b110 = 0b100\n",
      "0b101 | 0b110 = 0b111\n",
      "0b101 ^ 0b110 = 0b11\n"
     ]
    }
   ],
   "source": [
    "print(bin(5))\n",
    "print(bin(6))\n",
    "\n",
    "print(\"0b101 & 0b110 =\",bin(0b101 & 0b110))\n",
    "print(\"0b101 | 0b110 =\",bin(0b101 | 0b110))\n",
    "print(\"0b101 ^ 0b110 =\",bin(0b101 ^ 0b110))"
   ]
  },
  {
   "cell_type": "markdown",
   "id": "bb1a66fb",
   "metadata": {},
   "source": [
    "## 3.6"
   ]
  },
  {
   "cell_type": "code",
   "execution_count": 25,
   "id": "3d2c33a9",
   "metadata": {},
   "outputs": [
    {
     "name": "stdout",
     "output_type": "stream",
     "text": [
      "정수 a를 입력하시오 :202\n",
      "정수 b를 입력하시오 :50\n",
      "a / b의 몫 :  4\n",
      "a / b의 나머지 :  2\n"
     ]
    }
   ],
   "source": [
    "a = int(input(\"정수 a를 입력하시오 :\"))\n",
    "b = int(input(\"정수 b를 입력하시오 :\"))\n",
    "print(\"a / b의 몫 : \", a//b)\n",
    "print(\"a / b의 나머지 : \", a%b)"
   ]
  },
  {
   "cell_type": "markdown",
   "id": "c2b1ca66",
   "metadata": {},
   "source": [
    "## 3.7"
   ]
  },
  {
   "cell_type": "code",
   "execution_count": 29,
   "id": "ce18db78",
   "metadata": {},
   "outputs": [
    {
     "name": "stdout",
     "output_type": "stream",
     "text": [
      "세 자리 정수를 입력하시오 : 349\n",
      "백의 자리 :  3\n",
      "십의 자리 :  4\n",
      "일의 자리 :  9\n"
     ]
    }
   ],
   "source": [
    "a = int(input(\"세 자리 정수를 입력하시오 : \"))\n",
    "print(\"백의 자리 : \", a//100)\n",
    "print(\"십의 자리 : \", a%100//10)\n",
    "print(\"일의 자리 : \", a%100%10)"
   ]
  },
  {
   "cell_type": "markdown",
   "id": "2b07a973",
   "metadata": {},
   "source": [
    "## 3.8"
   ]
  },
  {
   "cell_type": "code",
   "execution_count": 14,
   "id": "1424bf83",
   "metadata": {},
   "outputs": [
    {
     "name": "stdout",
     "output_type": "stream",
     "text": [
      "세 자리 정수를 입력하시오 : 349\n",
      "9\n",
      "4\n",
      "3\n",
      "943\n"
     ]
    }
   ],
   "source": [
    "#1)\n",
    "a = int(input(\"세 자리 정수를 입력하시오 : \"))\n",
    "print(a%100%10)\n",
    "print(a%100//10)\n",
    "print(a//100)\n",
    "\n",
    "#2)\n",
    "b = a%100%10\n",
    "c = a%100//10\n",
    "d = a//100\n",
    "    \n",
    "print(b,end='')  \n",
    "print(c,end='')  \n",
    "print(d) "
   ]
  },
  {
   "cell_type": "markdown",
   "id": "7929aa83",
   "metadata": {},
   "source": [
    "## 3.9"
   ]
  },
  {
   "cell_type": "code",
   "execution_count": 52,
   "id": "ecbc9e02",
   "metadata": {},
   "outputs": [
    {
     "name": "stdout",
     "output_type": "stream",
     "text": [
      "평균 시속(km/h)을 입력하세요 : 46.5\n",
      "이동 시간(h)을 입력하세요 : 12.342\n",
      "평균 시속 :  46.5 km/h\n",
      "이동 시간 :  12 시간 20 분 31 초\n",
      "이동 거리 :  573.903 km\n"
     ]
    }
   ],
   "source": [
    "s = float(input(\"평균 시속(km/h)을 입력하세요 : \"))\n",
    "h = float(input(\"이동 시간(h)을 입력하세요 : \"))\n",
    "print(\"평균 시속 : \", s,\"km/h\")\n",
    "#이동시간 \n",
    "h1 = h * 3600\n",
    "print(\"이동 시간 : \", int(h1//3600),\"시간\",int(h1%3600//60),\"분\", int(h1%3600%60),\"초\")\n",
    "print(\"이동 거리 : \", s*h, \"km\")"
   ]
  },
  {
   "cell_type": "markdown",
   "id": "b9ab9ec5",
   "metadata": {},
   "source": [
    "## 3.10"
   ]
  },
  {
   "cell_type": "code",
   "execution_count": 26,
   "id": "4611dbc3",
   "metadata": {},
   "outputs": [
    {
     "name": "stdout",
     "output_type": "stream",
     "text": [
      "x1의 좌표를 입력하시오 : 0\n",
      "y1의 좌표를 입력하시오 : 0\n",
      "x2의 좌표를 입력하시오 : 3\n",
      "y2의 좌표를 입력하시오 : 4\n",
      "두 점의 거리 :  5.0\n"
     ]
    }
   ],
   "source": [
    "x1 = int(input(\"x1의 좌표를 입력하시오 : \"))\n",
    "y1 = int(input(\"y1의 좌표를 입력하시오 : \"))\n",
    "x2 = int(input(\"x2의 좌표를 입력하시오 : \"))\n",
    "y2 = int(input(\"y2의 좌표를 입력하시오 : \"))\n",
    "print(\"두 점의 거리 : \", ((x1-x2)**2+(y1-y2)**2)**(1/2))"
   ]
  },
  {
   "cell_type": "markdown",
   "id": "08176b33",
   "metadata": {},
   "source": [
    "## 3.11"
   ]
  },
  {
   "cell_type": "code",
   "execution_count": 30,
   "id": "dce62889",
   "metadata": {},
   "outputs": [
    {
     "name": "stdout",
     "output_type": "stream",
     "text": [
      "x1의 좌표를 입력하시오 : 0\n",
      "y1의 좌표를 입력하시오 : 0\n",
      "x2의 좌표를 입력하시오 : 3\n",
      "y2의 좌표를 입력하시오 : 4\n",
      "직각삼각형의 면적은 :  6.0\n"
     ]
    }
   ],
   "source": [
    "x1 = int(input(\"x1의 좌표를 입력하시오 : \"))\n",
    "y1 = int(input(\"y1의 좌표를 입력하시오 : \"))\n",
    "x2 = int(input(\"x2의 좌표를 입력하시오 : \"))\n",
    "y2 = int(input(\"y2의 좌표를 입력하시오 : \"))\n",
    "l = x2-x1\n",
    "h = y2-y1\n",
    "print(\"직각삼각형의 면적은 : \",(l*h)/2)"
   ]
  },
  {
   "cell_type": "markdown",
   "id": "33cc6416",
   "metadata": {},
   "source": [
    "## 3.12"
   ]
  },
  {
   "cell_type": "code",
   "execution_count": 27,
   "id": "1ef6d2ae",
   "metadata": {},
   "outputs": [
    {
     "name": "stdout",
     "output_type": "stream",
     "text": [
      "정육면체의 부피는  2197 입니다.\n",
      "정육면체의 부피는  10648 입니다.\n",
      "직육면체의 부피는  6800 입니다.\n"
     ]
    }
   ],
   "source": [
    "#1)\n",
    "s = 13\n",
    "print(\"정육면체의 부피는 \", s**3, \"입니다.\")\n",
    "#2)\n",
    "s = 22\n",
    "print(\"정육면체의 부피는 \", s**3, \"입니다.\")\n",
    "#3)\n",
    "w, h, l = 17, 25, 16\n",
    "print(\"직육면체의 부피는 \", l*w*h, \"입니다.\" )"
   ]
  },
  {
   "cell_type": "code",
   "execution_count": 28,
   "id": "34ac1a1c",
   "metadata": {},
   "outputs": [
    {
     "name": "stdout",
     "output_type": "stream",
     "text": [
      "원뿔의 부피는  1569.9999999999998 입니다.\n",
      "구의 부피는  65416.666666666664 입니다.\n",
      "원기둥의 부피는  4710.0 입니다.\n"
     ]
    }
   ],
   "source": [
    "pi = 3.14\n",
    "#4)\n",
    "r, h = 10, 15\n",
    "print(\"원뿔의 부피는 \",1/3*pi*r**2*h, \"입니다.\")\n",
    "#5)\n",
    "r = 25\n",
    "print(\"구의 부피는 \",4/3*pi*r**3, \"입니다.\")\n",
    "#6)\n",
    "r, h = 10, 15\n",
    "print(\"원기둥의 부피는 \",pi*r**2*h, \"입니다.\")"
   ]
  },
  {
   "cell_type": "code",
   "execution_count": 29,
   "id": "8da038f4",
   "metadata": {},
   "outputs": [
    {
     "name": "stdout",
     "output_type": "stream",
     "text": [
      "원뿔의 부피는  1570.7963267948965 입니다.\n",
      "구의 부피는  65449.84694978735 입니다.\n",
      "원기둥의 부피는  4712.38898038469 입니다.\n"
     ]
    }
   ],
   "source": [
    "#7)\n",
    "import math\n",
    "#4\n",
    "r, h = 10, 15\n",
    "print(\"원뿔의 부피는 \",1/3*math.pi*r**2*h, \"입니다.\")\n",
    "#5\n",
    "r = 25\n",
    "print(\"구의 부피는 \",4/3*math.pi*r**3, \"입니다.\")\n",
    "#6\n",
    "r, h = 10, 15\n",
    "print(\"원기둥의 부피는 \",math.pi*r**2*h, \"입니다.\")"
   ]
  }
 ],
 "metadata": {
  "kernelspec": {
   "display_name": "Python 3 (ipykernel)",
   "language": "python",
   "name": "python3"
  },
  "language_info": {
   "codemirror_mode": {
    "name": "ipython",
    "version": 3
   },
   "file_extension": ".py",
   "mimetype": "text/x-python",
   "name": "python",
   "nbconvert_exporter": "python",
   "pygments_lexer": "ipython3",
   "version": "3.9.7"
  }
 },
 "nbformat": 4,
 "nbformat_minor": 5
}
